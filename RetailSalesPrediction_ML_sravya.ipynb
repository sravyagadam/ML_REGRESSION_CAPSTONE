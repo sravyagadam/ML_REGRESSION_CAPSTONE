{
  "nbformat": 4,
  "nbformat_minor": 0,
  "metadata": {
    "kernelspec": {
      "display_name": "Python 3",
      "language": "python",
      "name": "python3"
    },
    "language_info": {
      "codemirror_mode": {
        "name": "ipython",
        "version": 3
      },
      "file_extension": ".py",
      "mimetype": "text/x-python",
      "name": "python",
      "nbconvert_exporter": "python",
      "pygments_lexer": "ipython3",
      "version": "3.6.6"
    },
    "colab": {
      "name": "RetailSalesPrediction_ML_sravya.ipynb",
      "provenance": [],
      "collapsed_sections": [],
      "include_colab_link": true
    },
    "accelerator": "TPU"
  },
  "cells": [
    {
      "cell_type": "markdown",
      "metadata": {
        "id": "view-in-github",
        "colab_type": "text"
      },
      "source": [
        "<a href=\"https://colab.research.google.com/github/sravyagadam/ML_REGRESSION_CAPSTONE/blob/main/RetailSalesPrediction_ML_sravya.ipynb\" target=\"_parent\"><img src=\"https://colab.research.google.com/assets/colab-badge.svg\" alt=\"Open In Colab\"/></a>"
      ]
    },
    {
      "cell_type": "markdown",
      "metadata": {
        "id": "tOGC-qoyhJeX"
      },
      "source": [
        "# <b><u> Project Title : Sales Prediction : Predicting sales of a major store chain Rossmann</u></b>"
      ]
    },
    {
      "cell_type": "markdown",
      "metadata": {
        "id": "Y06xIdG26kRF"
      },
      "source": [
        "## <b> Problem Description </b>\n",
        "\n",
        "### Rossmann operates over 3,000 drug stores in 7 European countries. Currently, Rossmann store managers are tasked with predicting their daily sales for up to six weeks in advance. Store sales are influenced by many factors, including promotions, competition, school and state holidays, seasonality, and locality. With thousands of individual managers predicting sales based on their unique circumstances, the accuracy of results can be quite varied.\n",
        "\n",
        "### You are provided with historical sales data for 1,115 Rossmann stores. The task is to forecast the \"Sales\" column for the test set. Note that some stores in the dataset were temporarily closed for refurbishment."
      ]
    },
    {
      "cell_type": "markdown",
      "metadata": {
        "id": "WWeU1f9bwqQq"
      },
      "source": [
        "## <b> Data Description </b>\n",
        "\n",
        "### <b>Rossmann Stores Data.csv </b> - historical data including Sales\n",
        "### <b>store.csv </b> - supplemental information about the stores\n",
        "\n",
        "\n",
        "### <b><u>Data fields</u></b>\n",
        "### Most of the fields are self-explanatory. The following are descriptions for those that aren't.\n",
        "\n",
        "* #### Id - an Id that represents a (Store, Date) duple within the test set\n",
        "* #### Store - a unique Id for each store\n",
        "* #### Sales - the turnover for any given day (this is what you are predicting)\n",
        "* #### Customers - the number of customers on a given day\n",
        "* #### Open - an indicator for whether the store was open: 0 = closed, 1 = open\n",
        "* #### StateHoliday - indicates a state holiday. Normally all stores, with few exceptions, are closed on state holidays. Note that all schools are closed on public holidays and weekends. a = public holiday, b = Easter holiday, c = Christmas, 0 = None\n",
        "* #### SchoolHoliday - indicates if the (Store, Date) was affected by the closure of public schools\n",
        "* #### StoreType - differentiates between 4 different store models: a, b, c, d\n",
        "* #### Assortment - describes an assortment level: a = basic, b = extra, c = extended\n",
        "* #### CompetitionDistance - distance in meters to the nearest competitor store\n",
        "* #### CompetitionOpenSince[Month/Year] - gives the approximate year and month of the time the nearest competitor was opened\n",
        "* #### Promo - indicates whether a store is running a promo on that day\n",
        "* #### Promo2 - Promo2 is a continuing and consecutive promotion for some stores: 0 = store is not participating, 1 = store is participating\n",
        "* #### Promo2Since[Year/Week] - describes the year and calendar week when the store started participating in Promo2\n",
        "* #### PromoInterval - describes the consecutive intervals Promo2 is started, naming the months the promotion is started anew. E.g. \"Feb,May,Aug,Nov\" means each round starts in February, May, August, November of any given year for that store"
      ]
    },
    {
      "cell_type": "code",
      "metadata": {
        "id": "dByMsuzT8Tnw"
      },
      "source": [
        "# Importing the libraries needed through out the code\n",
        "import numpy as np\n",
        "import pandas as pd\n",
        "from numpy import math\n",
        "\n",
        "from sklearn.preprocessing import StandardScaler\n",
        "from sklearn.model_selection import train_test_split\n",
        "from sklearn.linear_model import LinearRegression\n",
        "from sklearn.metrics import r2_score\n",
        "from sklearn.metrics import mean_squared_error\n",
        "\n",
        "import matplotlib.pyplot as plt\n",
        "import seaborn as sns\n",
        "import calendar\n",
        "import datetime\n",
        "from sklearn.tree import DecisionTreeClassifier, export_graphviz,DecisionTreeRegressor\n",
        "from sklearn.ensemble import ExtraTreesRegressor\n",
        "from sklearn.model_selection import GridSearchCV\n",
        "from sklearn import tree\n",
        "from sklearn import metrics\n",
        "from IPython.display import SVG\n",
        "from graphviz import Source\n",
        "from IPython.display import display\n",
        "from sklearn.metrics import accuracy_score as acc\n",
        "from datetime import datetime"
      ],
      "execution_count": null,
      "outputs": []
    },
    {
      "cell_type": "code",
      "metadata": {
        "colab": {
          "base_uri": "https://localhost:8080/"
        },
        "id": "RoW6H7pYHD9z",
        "outputId": "ec591c3e-3a1b-4ad9-e7d2-e5134667842e"
      },
      "source": [
        "from google.colab import drive\n",
        "drive.mount('/content/drive')"
      ],
      "execution_count": null,
      "outputs": [
        {
          "output_type": "stream",
          "name": "stdout",
          "text": [
            "Mounted at /content/drive\n"
          ]
        }
      ]
    },
    {
      "cell_type": "code",
      "metadata": {
        "colab": {
          "base_uri": "https://localhost:8080/"
        },
        "id": "EWSqtoEMHPBr",
        "outputId": "81256d9e-0a9f-43ae-e8f0-a86751b95f67"
      },
      "source": [
        "store_data = pd.read_csv('/content/drive/MyDrive/RetailSalesPrediction_Sravya/Rossmann Stores Data.csv')\n",
        "stores = pd.read_csv('/content/drive/MyDrive/RetailSalesPrediction_Sravya/store.csv')"
      ],
      "execution_count": null,
      "outputs": [
        {
          "output_type": "stream",
          "name": "stderr",
          "text": [
            "/usr/local/lib/python3.7/dist-packages/IPython/core/interactiveshell.py:2718: DtypeWarning: Columns (7) have mixed types.Specify dtype option on import or set low_memory=False.\n",
            "  interactivity=interactivity, compiler=compiler, result=result)\n"
          ]
        }
      ]
    },
    {
      "cell_type": "code",
      "metadata": {
        "colab": {
          "base_uri": "https://localhost:8080/",
          "height": 443
        },
        "id": "ZeBphtHPbONq",
        "outputId": "8da43cb1-cf30-4d6c-d7e5-8c5d115c0a0c"
      },
      "source": [
        "#store_data.dropna(inplace=True)\n",
        "#stores.dropna(inplace=True)\n",
        "store_data.fillna(0)\n",
        "stores.fillna(0)"
      ],
      "execution_count": null,
      "outputs": [
        {
          "output_type": "execute_result",
          "data": {
            "text/html": [
              "<div>\n",
              "<style scoped>\n",
              "    .dataframe tbody tr th:only-of-type {\n",
              "        vertical-align: middle;\n",
              "    }\n",
              "\n",
              "    .dataframe tbody tr th {\n",
              "        vertical-align: top;\n",
              "    }\n",
              "\n",
              "    .dataframe thead th {\n",
              "        text-align: right;\n",
              "    }\n",
              "</style>\n",
              "<table border=\"1\" class=\"dataframe\">\n",
              "  <thead>\n",
              "    <tr style=\"text-align: right;\">\n",
              "      <th></th>\n",
              "      <th>Store</th>\n",
              "      <th>StoreType</th>\n",
              "      <th>Assortment</th>\n",
              "      <th>CompetitionDistance</th>\n",
              "      <th>CompetitionOpenSinceMonth</th>\n",
              "      <th>CompetitionOpenSinceYear</th>\n",
              "      <th>Promo2</th>\n",
              "      <th>Promo2SinceWeek</th>\n",
              "      <th>Promo2SinceYear</th>\n",
              "      <th>PromoInterval</th>\n",
              "    </tr>\n",
              "  </thead>\n",
              "  <tbody>\n",
              "    <tr>\n",
              "      <th>0</th>\n",
              "      <td>1</td>\n",
              "      <td>c</td>\n",
              "      <td>a</td>\n",
              "      <td>1270.0</td>\n",
              "      <td>9.0</td>\n",
              "      <td>2008.0</td>\n",
              "      <td>0</td>\n",
              "      <td>0.0</td>\n",
              "      <td>0.0</td>\n",
              "      <td>0</td>\n",
              "    </tr>\n",
              "    <tr>\n",
              "      <th>1</th>\n",
              "      <td>2</td>\n",
              "      <td>a</td>\n",
              "      <td>a</td>\n",
              "      <td>570.0</td>\n",
              "      <td>11.0</td>\n",
              "      <td>2007.0</td>\n",
              "      <td>1</td>\n",
              "      <td>13.0</td>\n",
              "      <td>2010.0</td>\n",
              "      <td>Jan,Apr,Jul,Oct</td>\n",
              "    </tr>\n",
              "    <tr>\n",
              "      <th>2</th>\n",
              "      <td>3</td>\n",
              "      <td>a</td>\n",
              "      <td>a</td>\n",
              "      <td>14130.0</td>\n",
              "      <td>12.0</td>\n",
              "      <td>2006.0</td>\n",
              "      <td>1</td>\n",
              "      <td>14.0</td>\n",
              "      <td>2011.0</td>\n",
              "      <td>Jan,Apr,Jul,Oct</td>\n",
              "    </tr>\n",
              "    <tr>\n",
              "      <th>3</th>\n",
              "      <td>4</td>\n",
              "      <td>c</td>\n",
              "      <td>c</td>\n",
              "      <td>620.0</td>\n",
              "      <td>9.0</td>\n",
              "      <td>2009.0</td>\n",
              "      <td>0</td>\n",
              "      <td>0.0</td>\n",
              "      <td>0.0</td>\n",
              "      <td>0</td>\n",
              "    </tr>\n",
              "    <tr>\n",
              "      <th>4</th>\n",
              "      <td>5</td>\n",
              "      <td>a</td>\n",
              "      <td>a</td>\n",
              "      <td>29910.0</td>\n",
              "      <td>4.0</td>\n",
              "      <td>2015.0</td>\n",
              "      <td>0</td>\n",
              "      <td>0.0</td>\n",
              "      <td>0.0</td>\n",
              "      <td>0</td>\n",
              "    </tr>\n",
              "    <tr>\n",
              "      <th>...</th>\n",
              "      <td>...</td>\n",
              "      <td>...</td>\n",
              "      <td>...</td>\n",
              "      <td>...</td>\n",
              "      <td>...</td>\n",
              "      <td>...</td>\n",
              "      <td>...</td>\n",
              "      <td>...</td>\n",
              "      <td>...</td>\n",
              "      <td>...</td>\n",
              "    </tr>\n",
              "    <tr>\n",
              "      <th>1110</th>\n",
              "      <td>1111</td>\n",
              "      <td>a</td>\n",
              "      <td>a</td>\n",
              "      <td>1900.0</td>\n",
              "      <td>6.0</td>\n",
              "      <td>2014.0</td>\n",
              "      <td>1</td>\n",
              "      <td>31.0</td>\n",
              "      <td>2013.0</td>\n",
              "      <td>Jan,Apr,Jul,Oct</td>\n",
              "    </tr>\n",
              "    <tr>\n",
              "      <th>1111</th>\n",
              "      <td>1112</td>\n",
              "      <td>c</td>\n",
              "      <td>c</td>\n",
              "      <td>1880.0</td>\n",
              "      <td>4.0</td>\n",
              "      <td>2006.0</td>\n",
              "      <td>0</td>\n",
              "      <td>0.0</td>\n",
              "      <td>0.0</td>\n",
              "      <td>0</td>\n",
              "    </tr>\n",
              "    <tr>\n",
              "      <th>1112</th>\n",
              "      <td>1113</td>\n",
              "      <td>a</td>\n",
              "      <td>c</td>\n",
              "      <td>9260.0</td>\n",
              "      <td>0.0</td>\n",
              "      <td>0.0</td>\n",
              "      <td>0</td>\n",
              "      <td>0.0</td>\n",
              "      <td>0.0</td>\n",
              "      <td>0</td>\n",
              "    </tr>\n",
              "    <tr>\n",
              "      <th>1113</th>\n",
              "      <td>1114</td>\n",
              "      <td>a</td>\n",
              "      <td>c</td>\n",
              "      <td>870.0</td>\n",
              "      <td>0.0</td>\n",
              "      <td>0.0</td>\n",
              "      <td>0</td>\n",
              "      <td>0.0</td>\n",
              "      <td>0.0</td>\n",
              "      <td>0</td>\n",
              "    </tr>\n",
              "    <tr>\n",
              "      <th>1114</th>\n",
              "      <td>1115</td>\n",
              "      <td>d</td>\n",
              "      <td>c</td>\n",
              "      <td>5350.0</td>\n",
              "      <td>0.0</td>\n",
              "      <td>0.0</td>\n",
              "      <td>1</td>\n",
              "      <td>22.0</td>\n",
              "      <td>2012.0</td>\n",
              "      <td>Mar,Jun,Sept,Dec</td>\n",
              "    </tr>\n",
              "  </tbody>\n",
              "</table>\n",
              "<p>1115 rows × 10 columns</p>\n",
              "</div>"
            ],
            "text/plain": [
              "      Store StoreType  ... Promo2SinceYear     PromoInterval\n",
              "0         1         c  ...             0.0                 0\n",
              "1         2         a  ...          2010.0   Jan,Apr,Jul,Oct\n",
              "2         3         a  ...          2011.0   Jan,Apr,Jul,Oct\n",
              "3         4         c  ...             0.0                 0\n",
              "4         5         a  ...             0.0                 0\n",
              "...     ...       ...  ...             ...               ...\n",
              "1110   1111         a  ...          2013.0   Jan,Apr,Jul,Oct\n",
              "1111   1112         c  ...             0.0                 0\n",
              "1112   1113         a  ...             0.0                 0\n",
              "1113   1114         a  ...             0.0                 0\n",
              "1114   1115         d  ...          2012.0  Mar,Jun,Sept,Dec\n",
              "\n",
              "[1115 rows x 10 columns]"
            ]
          },
          "metadata": {},
          "execution_count": 5
        }
      ]
    },
    {
      "cell_type": "code",
      "metadata": {
        "id": "ZLF7wiqktp0t"
      },
      "source": [
        "store_data = store_data[store_data.Open != 0]"
      ],
      "execution_count": null,
      "outputs": []
    },
    {
      "cell_type": "code",
      "metadata": {
        "colab": {
          "base_uri": "https://localhost:8080/",
          "height": 206
        },
        "id": "0YTUuItQbVtK",
        "outputId": "8d121a6a-996c-48c1-d36a-2b71bf4359b9"
      },
      "source": [
        "store_data.head()"
      ],
      "execution_count": null,
      "outputs": [
        {
          "output_type": "execute_result",
          "data": {
            "text/html": [
              "<div>\n",
              "<style scoped>\n",
              "    .dataframe tbody tr th:only-of-type {\n",
              "        vertical-align: middle;\n",
              "    }\n",
              "\n",
              "    .dataframe tbody tr th {\n",
              "        vertical-align: top;\n",
              "    }\n",
              "\n",
              "    .dataframe thead th {\n",
              "        text-align: right;\n",
              "    }\n",
              "</style>\n",
              "<table border=\"1\" class=\"dataframe\">\n",
              "  <thead>\n",
              "    <tr style=\"text-align: right;\">\n",
              "      <th></th>\n",
              "      <th>Store</th>\n",
              "      <th>DayOfWeek</th>\n",
              "      <th>Date</th>\n",
              "      <th>Sales</th>\n",
              "      <th>Customers</th>\n",
              "      <th>Open</th>\n",
              "      <th>Promo</th>\n",
              "      <th>StateHoliday</th>\n",
              "      <th>SchoolHoliday</th>\n",
              "    </tr>\n",
              "  </thead>\n",
              "  <tbody>\n",
              "    <tr>\n",
              "      <th>0</th>\n",
              "      <td>1</td>\n",
              "      <td>5</td>\n",
              "      <td>2015-07-31</td>\n",
              "      <td>5263</td>\n",
              "      <td>555</td>\n",
              "      <td>1</td>\n",
              "      <td>1</td>\n",
              "      <td>0</td>\n",
              "      <td>1</td>\n",
              "    </tr>\n",
              "    <tr>\n",
              "      <th>1</th>\n",
              "      <td>2</td>\n",
              "      <td>5</td>\n",
              "      <td>2015-07-31</td>\n",
              "      <td>6064</td>\n",
              "      <td>625</td>\n",
              "      <td>1</td>\n",
              "      <td>1</td>\n",
              "      <td>0</td>\n",
              "      <td>1</td>\n",
              "    </tr>\n",
              "    <tr>\n",
              "      <th>2</th>\n",
              "      <td>3</td>\n",
              "      <td>5</td>\n",
              "      <td>2015-07-31</td>\n",
              "      <td>8314</td>\n",
              "      <td>821</td>\n",
              "      <td>1</td>\n",
              "      <td>1</td>\n",
              "      <td>0</td>\n",
              "      <td>1</td>\n",
              "    </tr>\n",
              "    <tr>\n",
              "      <th>3</th>\n",
              "      <td>4</td>\n",
              "      <td>5</td>\n",
              "      <td>2015-07-31</td>\n",
              "      <td>13995</td>\n",
              "      <td>1498</td>\n",
              "      <td>1</td>\n",
              "      <td>1</td>\n",
              "      <td>0</td>\n",
              "      <td>1</td>\n",
              "    </tr>\n",
              "    <tr>\n",
              "      <th>4</th>\n",
              "      <td>5</td>\n",
              "      <td>5</td>\n",
              "      <td>2015-07-31</td>\n",
              "      <td>4822</td>\n",
              "      <td>559</td>\n",
              "      <td>1</td>\n",
              "      <td>1</td>\n",
              "      <td>0</td>\n",
              "      <td>1</td>\n",
              "    </tr>\n",
              "  </tbody>\n",
              "</table>\n",
              "</div>"
            ],
            "text/plain": [
              "   Store  DayOfWeek        Date  Sales  ...  Open  Promo  StateHoliday SchoolHoliday\n",
              "0      1          5  2015-07-31   5263  ...     1      1             0             1\n",
              "1      2          5  2015-07-31   6064  ...     1      1             0             1\n",
              "2      3          5  2015-07-31   8314  ...     1      1             0             1\n",
              "3      4          5  2015-07-31  13995  ...     1      1             0             1\n",
              "4      5          5  2015-07-31   4822  ...     1      1             0             1\n",
              "\n",
              "[5 rows x 9 columns]"
            ]
          },
          "metadata": {},
          "execution_count": 7
        }
      ]
    },
    {
      "cell_type": "code",
      "metadata": {
        "id": "tvijnelfJFak"
      },
      "source": [
        "store_data['Date']= pd.to_datetime(store_data['Date'])"
      ],
      "execution_count": null,
      "outputs": []
    },
    {
      "cell_type": "code",
      "metadata": {
        "id": "X-xQO_MRHO51"
      },
      "source": [
        "store_data['Year'] = pd.DatetimeIndex(store_data['Date']).year\n",
        "store_data['Month'] = pd.DatetimeIndex(store_data['Date']).month"
      ],
      "execution_count": null,
      "outputs": []
    },
    {
      "cell_type": "code",
      "metadata": {
        "colab": {
          "base_uri": "https://localhost:8080/",
          "height": 206
        },
        "id": "UGKDPRTaKZlV",
        "outputId": "d76e072f-e48f-4572-e198-f6b199be4d65"
      },
      "source": [
        "store_data.head()"
      ],
      "execution_count": null,
      "outputs": [
        {
          "output_type": "execute_result",
          "data": {
            "text/html": [
              "<div>\n",
              "<style scoped>\n",
              "    .dataframe tbody tr th:only-of-type {\n",
              "        vertical-align: middle;\n",
              "    }\n",
              "\n",
              "    .dataframe tbody tr th {\n",
              "        vertical-align: top;\n",
              "    }\n",
              "\n",
              "    .dataframe thead th {\n",
              "        text-align: right;\n",
              "    }\n",
              "</style>\n",
              "<table border=\"1\" class=\"dataframe\">\n",
              "  <thead>\n",
              "    <tr style=\"text-align: right;\">\n",
              "      <th></th>\n",
              "      <th>Store</th>\n",
              "      <th>DayOfWeek</th>\n",
              "      <th>Date</th>\n",
              "      <th>Sales</th>\n",
              "      <th>Customers</th>\n",
              "      <th>Open</th>\n",
              "      <th>Promo</th>\n",
              "      <th>StateHoliday</th>\n",
              "      <th>SchoolHoliday</th>\n",
              "      <th>Year</th>\n",
              "      <th>Month</th>\n",
              "    </tr>\n",
              "  </thead>\n",
              "  <tbody>\n",
              "    <tr>\n",
              "      <th>0</th>\n",
              "      <td>1</td>\n",
              "      <td>5</td>\n",
              "      <td>2015-07-31</td>\n",
              "      <td>5263</td>\n",
              "      <td>555</td>\n",
              "      <td>1</td>\n",
              "      <td>1</td>\n",
              "      <td>0</td>\n",
              "      <td>1</td>\n",
              "      <td>2015</td>\n",
              "      <td>7</td>\n",
              "    </tr>\n",
              "    <tr>\n",
              "      <th>1</th>\n",
              "      <td>2</td>\n",
              "      <td>5</td>\n",
              "      <td>2015-07-31</td>\n",
              "      <td>6064</td>\n",
              "      <td>625</td>\n",
              "      <td>1</td>\n",
              "      <td>1</td>\n",
              "      <td>0</td>\n",
              "      <td>1</td>\n",
              "      <td>2015</td>\n",
              "      <td>7</td>\n",
              "    </tr>\n",
              "    <tr>\n",
              "      <th>2</th>\n",
              "      <td>3</td>\n",
              "      <td>5</td>\n",
              "      <td>2015-07-31</td>\n",
              "      <td>8314</td>\n",
              "      <td>821</td>\n",
              "      <td>1</td>\n",
              "      <td>1</td>\n",
              "      <td>0</td>\n",
              "      <td>1</td>\n",
              "      <td>2015</td>\n",
              "      <td>7</td>\n",
              "    </tr>\n",
              "    <tr>\n",
              "      <th>3</th>\n",
              "      <td>4</td>\n",
              "      <td>5</td>\n",
              "      <td>2015-07-31</td>\n",
              "      <td>13995</td>\n",
              "      <td>1498</td>\n",
              "      <td>1</td>\n",
              "      <td>1</td>\n",
              "      <td>0</td>\n",
              "      <td>1</td>\n",
              "      <td>2015</td>\n",
              "      <td>7</td>\n",
              "    </tr>\n",
              "    <tr>\n",
              "      <th>4</th>\n",
              "      <td>5</td>\n",
              "      <td>5</td>\n",
              "      <td>2015-07-31</td>\n",
              "      <td>4822</td>\n",
              "      <td>559</td>\n",
              "      <td>1</td>\n",
              "      <td>1</td>\n",
              "      <td>0</td>\n",
              "      <td>1</td>\n",
              "      <td>2015</td>\n",
              "      <td>7</td>\n",
              "    </tr>\n",
              "  </tbody>\n",
              "</table>\n",
              "</div>"
            ],
            "text/plain": [
              "   Store  DayOfWeek       Date  Sales  ...  StateHoliday  SchoolHoliday  Year Month\n",
              "0      1          5 2015-07-31   5263  ...             0              1  2015     7\n",
              "1      2          5 2015-07-31   6064  ...             0              1  2015     7\n",
              "2      3          5 2015-07-31   8314  ...             0              1  2015     7\n",
              "3      4          5 2015-07-31  13995  ...             0              1  2015     7\n",
              "4      5          5 2015-07-31   4822  ...             0              1  2015     7\n",
              "\n",
              "[5 rows x 11 columns]"
            ]
          },
          "metadata": {},
          "execution_count": 10
        }
      ]
    },
    {
      "cell_type": "code",
      "metadata": {
        "colab": {
          "base_uri": "https://localhost:8080/"
        },
        "id": "UAXBPPu1KecM",
        "outputId": "80143e14-82f1-4f75-bada-35187aa5c360"
      },
      "source": [
        "stores.isna().sum()"
      ],
      "execution_count": null,
      "outputs": [
        {
          "output_type": "execute_result",
          "data": {
            "text/plain": [
              "Store                          0\n",
              "StoreType                      0\n",
              "Assortment                     0\n",
              "CompetitionDistance            3\n",
              "CompetitionOpenSinceMonth    354\n",
              "CompetitionOpenSinceYear     354\n",
              "Promo2                         0\n",
              "Promo2SinceWeek              544\n",
              "Promo2SinceYear              544\n",
              "PromoInterval                544\n",
              "dtype: int64"
            ]
          },
          "metadata": {},
          "execution_count": 11
        }
      ]
    },
    {
      "cell_type": "code",
      "metadata": {
        "id": "QigrJLcqKiA9"
      },
      "source": [
        "## Wherever Promo2 ie continuing and consecutive promotion is zero, implies store didn't participate,\n",
        "# hence Promo2SinceWeek and Promo2SinceYear should be zero, also there won't be PromoInterval\n",
        "stores.loc[(stores['Promo2']==0) & (stores['Promo2SinceWeek'].isna()),['Promo2SinceWeek']]=0\n",
        "stores.loc[(stores['Promo2']==0) & (stores['Promo2SinceYear'].isna()),['Promo2SinceYear','PromoInterval']]=0"
      ],
      "execution_count": null,
      "outputs": []
    },
    {
      "cell_type": "code",
      "metadata": {
        "id": "-Q2oxEsAKmdT"
      },
      "source": [
        "stores.loc[stores['CompetitionDistance'].isna()]=stores['CompetitionDistance'].max()#CompetitionDistance"
      ],
      "execution_count": null,
      "outputs": []
    },
    {
      "cell_type": "code",
      "metadata": {
        "colab": {
          "base_uri": "https://localhost:8080/"
        },
        "id": "DPfwWo8BKokj",
        "outputId": "5171579a-96c7-4ea3-ec43-c080bd780bbe"
      },
      "source": [
        "stores.isna().sum()"
      ],
      "execution_count": null,
      "outputs": [
        {
          "output_type": "execute_result",
          "data": {
            "text/plain": [
              "Store                          0\n",
              "StoreType                      0\n",
              "Assortment                     0\n",
              "CompetitionDistance            0\n",
              "CompetitionOpenSinceMonth    351\n",
              "CompetitionOpenSinceYear     351\n",
              "Promo2                         0\n",
              "Promo2SinceWeek                0\n",
              "Promo2SinceYear                0\n",
              "PromoInterval                  0\n",
              "dtype: int64"
            ]
          },
          "metadata": {},
          "execution_count": 161
        }
      ]
    },
    {
      "cell_type": "code",
      "metadata": {
        "colab": {
          "base_uri": "https://localhost:8080/"
        },
        "id": "pN4vkcalKrCz",
        "outputId": "dd052f68-4114-44f3-e526-219513fd4f0c"
      },
      "source": [
        "store_data['Date'].min()"
      ],
      "execution_count": null,
      "outputs": [
        {
          "output_type": "execute_result",
          "data": {
            "text/plain": [
              "Timestamp('2013-01-01 00:00:00')"
            ]
          },
          "metadata": {},
          "execution_count": 14
        }
      ]
    },
    {
      "cell_type": "code",
      "metadata": {
        "colab": {
          "base_uri": "https://localhost:8080/"
        },
        "id": "CHREHh5nKxPT",
        "outputId": "29464955-d54c-46b9-81b8-9a1625eb231f"
      },
      "source": [
        "stores[stores['Promo2SinceYear']!=0]['Promo2SinceYear'].min()"
      ],
      "execution_count": null,
      "outputs": [
        {
          "output_type": "execute_result",
          "data": {
            "text/plain": [
              "2009.0"
            ]
          },
          "metadata": {},
          "execution_count": 15
        }
      ]
    },
    {
      "cell_type": "code",
      "metadata": {
        "id": "TI44gVpGK1Ur"
      },
      "source": [
        "### Code Ref https://www.kaggle.com/shivam017arora/rossmann-sales-prediction-top-1-solution\n",
        "## Modified accordingly\n",
        "\n",
        "competition_open = []\n",
        "for index, value in stores[['CompetitionOpenSinceMonth', 'CompetitionOpenSinceYear']].iterrows():\n",
        "    try:\n",
        "        year, month = int(value['CompetitionOpenSinceYear']), int(value['CompetitionOpenSinceMonth'])\n",
        "        date = pd.to_datetime(\"{}-{}-01\".format(year, month), format='%Y-%m')\n",
        "        competition_open.append(date)\n",
        "    except:\n",
        "        competition_open.append('1813-01-01') # Added a dummy date, 200 yrs less than min sales date\n",
        "stores['CompetitionOpen'] = pd.Series(competition_open)\n",
        "stores['CompetitionOpen'] = stores['CompetitionOpen'].dt.strftime('%Y-%m-%d')\n",
        "stores['CompetitionOpen']= pd.to_datetime(stores['CompetitionOpen'])\n",
        "\n",
        "\n",
        "\n",
        "\n",
        "\n",
        "promo = []\n",
        "for index, value in stores[['Promo2SinceWeek', 'Promo2SinceYear']].iterrows():\n",
        "    try:\n",
        "        year, week = int(value['Promo2SinceYear']), int(value['Promo2SinceWeek'])\n",
        "        date = pd.to_datetime(\"{}{}0\".format(year, week), format='%Y%W%w')\n",
        "        promo.append(date)\n",
        "    except:\n",
        "        promo.append('1909-01-01')   ## dummy date\n",
        "stores['promoYearWeek'] = pd.to_datetime(pd.Series(promo))\n",
        "stores['promoYearWeek'] = stores['promoYearWeek'].dt.strftime('%Y%m%d')\n",
        "stores['promoYearWeek']= pd.to_datetime(stores['promoYearWeek'])\n"
      ],
      "execution_count": null,
      "outputs": []
    },
    {
      "cell_type": "code",
      "metadata": {
        "colab": {
          "base_uri": "https://localhost:8080/"
        },
        "id": "6RhpceD6LBni",
        "outputId": "96a6a36c-6728-462b-86da-0219ff18a90a"
      },
      "source": [
        "stores.info()"
      ],
      "execution_count": null,
      "outputs": [
        {
          "output_type": "stream",
          "name": "stdout",
          "text": [
            "<class 'pandas.core.frame.DataFrame'>\n",
            "RangeIndex: 1115 entries, 0 to 1114\n",
            "Data columns (total 12 columns):\n",
            " #   Column                     Non-Null Count  Dtype         \n",
            "---  ------                     --------------  -----         \n",
            " 0   Store                      1115 non-null   int64         \n",
            " 1   StoreType                  1115 non-null   object        \n",
            " 2   Assortment                 1115 non-null   object        \n",
            " 3   CompetitionDistance        1115 non-null   float64       \n",
            " 4   CompetitionOpenSinceMonth  764 non-null    float64       \n",
            " 5   CompetitionOpenSinceYear   764 non-null    float64       \n",
            " 6   Promo2                     1115 non-null   int64         \n",
            " 7   Promo2SinceWeek            1115 non-null   float64       \n",
            " 8   Promo2SinceYear            1115 non-null   float64       \n",
            " 9   PromoInterval              1115 non-null   object        \n",
            " 10  CompetitionOpen            1115 non-null   datetime64[ns]\n",
            " 11  promoYearWeek              1115 non-null   datetime64[ns]\n",
            "dtypes: datetime64[ns](2), float64(5), int64(2), object(3)\n",
            "memory usage: 104.7+ KB\n"
          ]
        }
      ]
    },
    {
      "cell_type": "code",
      "metadata": {
        "id": "GtSm-HowLIcr"
      },
      "source": [
        "store_data_merged=pd.merge(store_data,stores,on='Store')"
      ],
      "execution_count": null,
      "outputs": []
    },
    {
      "cell_type": "code",
      "metadata": {
        "colab": {
          "base_uri": "https://localhost:8080/"
        },
        "id": "JbSxO1DYq31i",
        "outputId": "d52f1122-9661-4168-99ca-901e121c1f8f"
      },
      "source": [
        "store_data_merged.info()"
      ],
      "execution_count": null,
      "outputs": [
        {
          "output_type": "stream",
          "name": "stdout",
          "text": [
            "<class 'pandas.core.frame.DataFrame'>\n",
            "Int64Index: 842206 entries, 0 to 842205\n",
            "Data columns (total 22 columns):\n",
            " #   Column                     Non-Null Count   Dtype         \n",
            "---  ------                     --------------   -----         \n",
            " 0   Store                      842206 non-null  int64         \n",
            " 1   DayOfWeek                  842206 non-null  int64         \n",
            " 2   Date                       842206 non-null  datetime64[ns]\n",
            " 3   Sales                      842206 non-null  int64         \n",
            " 4   Customers                  842206 non-null  int64         \n",
            " 5   Open                       842206 non-null  int64         \n",
            " 6   Promo                      842206 non-null  int64         \n",
            " 7   StateHoliday               842206 non-null  object        \n",
            " 8   SchoolHoliday              842206 non-null  int64         \n",
            " 9   Year                       842206 non-null  int64         \n",
            " 10  Month                      842206 non-null  int64         \n",
            " 11  StoreType                  842206 non-null  object        \n",
            " 12  Assortment                 842206 non-null  object        \n",
            " 13  CompetitionDistance        842206 non-null  float64       \n",
            " 14  CompetitionOpenSinceMonth  575773 non-null  float64       \n",
            " 15  CompetitionOpenSinceYear   575773 non-null  float64       \n",
            " 16  Promo2                     842206 non-null  int64         \n",
            " 17  Promo2SinceWeek            842206 non-null  float64       \n",
            " 18  Promo2SinceYear            842206 non-null  float64       \n",
            " 19  PromoInterval              842206 non-null  object        \n",
            " 20  CompetitionOpen            842206 non-null  datetime64[ns]\n",
            " 21  promoYearWeek              842206 non-null  datetime64[ns]\n",
            "dtypes: datetime64[ns](3), float64(5), int64(10), object(4)\n",
            "memory usage: 147.8+ MB\n"
          ]
        }
      ]
    },
    {
      "cell_type": "code",
      "metadata": {
        "id": "e3xVI83BLLeL"
      },
      "source": [
        "store_data_merged['day_diff_comp']=(store_data_merged['Date']-store_data_merged['CompetitionOpen']).dt.days\n",
        "store_data_merged['day_diff_promo']=(store_data_merged['Date']-store_data_merged['promoYearWeek']).dt.days\n",
        "store_data_merged.loc[store_data_merged['day_diff_comp']>=73000,'day_diff_comp']=0\n",
        "store_data_merged.loc[store_data_merged['day_diff_promo']>=36500,'day_diff_promo']=0"
      ],
      "execution_count": null,
      "outputs": []
    },
    {
      "cell_type": "code",
      "metadata": {
        "id": "CGuJFwL7LMjK"
      },
      "source": [
        "store_data_merged.drop(columns=['CompetitionOpenSinceYear','CompetitionOpenSinceMonth','Promo2SinceWeek','Promo2SinceYear','PromoInterval','CompetitionOpen','promoYearWeek'],inplace=True)"
      ],
      "execution_count": null,
      "outputs": []
    },
    {
      "cell_type": "code",
      "metadata": {
        "colab": {
          "base_uri": "https://localhost:8080/",
          "height": 313
        },
        "id": "i-6Ckm4FLPBi",
        "outputId": "722c8c4e-8a51-4bee-93c9-a6e52aeedbad"
      },
      "source": [
        "store_data_merged.head()"
      ],
      "execution_count": null,
      "outputs": [
        {
          "output_type": "execute_result",
          "data": {
            "text/html": [
              "<div>\n",
              "<style scoped>\n",
              "    .dataframe tbody tr th:only-of-type {\n",
              "        vertical-align: middle;\n",
              "    }\n",
              "\n",
              "    .dataframe tbody tr th {\n",
              "        vertical-align: top;\n",
              "    }\n",
              "\n",
              "    .dataframe thead th {\n",
              "        text-align: right;\n",
              "    }\n",
              "</style>\n",
              "<table border=\"1\" class=\"dataframe\">\n",
              "  <thead>\n",
              "    <tr style=\"text-align: right;\">\n",
              "      <th></th>\n",
              "      <th>Store</th>\n",
              "      <th>DayOfWeek</th>\n",
              "      <th>Date</th>\n",
              "      <th>Sales</th>\n",
              "      <th>Customers</th>\n",
              "      <th>Open</th>\n",
              "      <th>Promo</th>\n",
              "      <th>StateHoliday</th>\n",
              "      <th>SchoolHoliday</th>\n",
              "      <th>Year</th>\n",
              "      <th>Month</th>\n",
              "      <th>StoreType</th>\n",
              "      <th>Assortment</th>\n",
              "      <th>CompetitionDistance</th>\n",
              "      <th>Promo2</th>\n",
              "      <th>day_diff_comp</th>\n",
              "      <th>day_diff_promo</th>\n",
              "    </tr>\n",
              "  </thead>\n",
              "  <tbody>\n",
              "    <tr>\n",
              "      <th>0</th>\n",
              "      <td>1</td>\n",
              "      <td>5</td>\n",
              "      <td>2015-07-31</td>\n",
              "      <td>5263</td>\n",
              "      <td>555</td>\n",
              "      <td>1</td>\n",
              "      <td>1</td>\n",
              "      <td>0</td>\n",
              "      <td>1</td>\n",
              "      <td>2015</td>\n",
              "      <td>7</td>\n",
              "      <td>c</td>\n",
              "      <td>a</td>\n",
              "      <td>1270.0</td>\n",
              "      <td>0</td>\n",
              "      <td>2524</td>\n",
              "      <td>0</td>\n",
              "    </tr>\n",
              "    <tr>\n",
              "      <th>1</th>\n",
              "      <td>1</td>\n",
              "      <td>4</td>\n",
              "      <td>2015-07-30</td>\n",
              "      <td>5020</td>\n",
              "      <td>546</td>\n",
              "      <td>1</td>\n",
              "      <td>1</td>\n",
              "      <td>0</td>\n",
              "      <td>1</td>\n",
              "      <td>2015</td>\n",
              "      <td>7</td>\n",
              "      <td>c</td>\n",
              "      <td>a</td>\n",
              "      <td>1270.0</td>\n",
              "      <td>0</td>\n",
              "      <td>2523</td>\n",
              "      <td>0</td>\n",
              "    </tr>\n",
              "    <tr>\n",
              "      <th>2</th>\n",
              "      <td>1</td>\n",
              "      <td>3</td>\n",
              "      <td>2015-07-29</td>\n",
              "      <td>4782</td>\n",
              "      <td>523</td>\n",
              "      <td>1</td>\n",
              "      <td>1</td>\n",
              "      <td>0</td>\n",
              "      <td>1</td>\n",
              "      <td>2015</td>\n",
              "      <td>7</td>\n",
              "      <td>c</td>\n",
              "      <td>a</td>\n",
              "      <td>1270.0</td>\n",
              "      <td>0</td>\n",
              "      <td>2522</td>\n",
              "      <td>0</td>\n",
              "    </tr>\n",
              "    <tr>\n",
              "      <th>3</th>\n",
              "      <td>1</td>\n",
              "      <td>2</td>\n",
              "      <td>2015-07-28</td>\n",
              "      <td>5011</td>\n",
              "      <td>560</td>\n",
              "      <td>1</td>\n",
              "      <td>1</td>\n",
              "      <td>0</td>\n",
              "      <td>1</td>\n",
              "      <td>2015</td>\n",
              "      <td>7</td>\n",
              "      <td>c</td>\n",
              "      <td>a</td>\n",
              "      <td>1270.0</td>\n",
              "      <td>0</td>\n",
              "      <td>2521</td>\n",
              "      <td>0</td>\n",
              "    </tr>\n",
              "    <tr>\n",
              "      <th>4</th>\n",
              "      <td>1</td>\n",
              "      <td>1</td>\n",
              "      <td>2015-07-27</td>\n",
              "      <td>6102</td>\n",
              "      <td>612</td>\n",
              "      <td>1</td>\n",
              "      <td>1</td>\n",
              "      <td>0</td>\n",
              "      <td>1</td>\n",
              "      <td>2015</td>\n",
              "      <td>7</td>\n",
              "      <td>c</td>\n",
              "      <td>a</td>\n",
              "      <td>1270.0</td>\n",
              "      <td>0</td>\n",
              "      <td>2520</td>\n",
              "      <td>0</td>\n",
              "    </tr>\n",
              "  </tbody>\n",
              "</table>\n",
              "</div>"
            ],
            "text/plain": [
              "   Store  DayOfWeek       Date  ...  Promo2  day_diff_comp  day_diff_promo\n",
              "0      1          5 2015-07-31  ...       0           2524               0\n",
              "1      1          4 2015-07-30  ...       0           2523               0\n",
              "2      1          3 2015-07-29  ...       0           2522               0\n",
              "3      1          2 2015-07-28  ...       0           2521               0\n",
              "4      1          1 2015-07-27  ...       0           2520               0\n",
              "\n",
              "[5 rows x 17 columns]"
            ]
          },
          "metadata": {},
          "execution_count": 170
        }
      ]
    },
    {
      "cell_type": "code",
      "metadata": {
        "id": "FlCiY0fhLSF6"
      },
      "source": [
        "store_data_merged['CompetitionDistance']=store_data_merged['CompetitionDistance'].astype(int)"
      ],
      "execution_count": null,
      "outputs": []
    },
    {
      "cell_type": "code",
      "metadata": {
        "id": "qtq_osE3vYpC"
      },
      "source": [
        "store_data_merged = store_data_merged.reset_index()"
      ],
      "execution_count": null,
      "outputs": []
    },
    {
      "cell_type": "code",
      "metadata": {
        "colab": {
          "base_uri": "https://localhost:8080/",
          "height": 297
        },
        "id": "9oxqpIcinG4G",
        "outputId": "57901fbb-b204-4fcf-a191-6e3babd84fbf"
      },
      "source": [
        "Assortment_Sales = sns.barplot(x='Assortment', y='Sales', data= store_data_merged, palette='Greens')\n",
        "Assortment_Sales"
      ],
      "execution_count": null,
      "outputs": [
        {
          "output_type": "execute_result",
          "data": {
            "text/plain": [
              "<matplotlib.axes._subplots.AxesSubplot at 0x7fc4ec0b7c10>"
            ]
          },
          "metadata": {},
          "execution_count": 22
        },
        {
          "output_type": "display_data",
          "data": {
            "image/png": "[encoded data removed]",
            "text/plain": [
              "<Figure size 432x288 with 1 Axes>"
            ]
          },
          "metadata": {
            "needs_background": "light"
          }
        }
      ]
    },
    {
      "cell_type": "code",
      "metadata": {
        "colab": {
          "base_uri": "https://localhost:8080/",
          "height": 297
        },
        "id": "TcBPnzRynJnm",
        "outputId": "d718d7a8-4b5a-49ba-fbed-ce86c6ebedd2"
      },
      "source": [
        "StoreType_sales = sns.barplot(x='StoreType', y='Sales', data= store_data_merged, palette='Greens')\n",
        "StoreType_sales"
      ],
      "execution_count": null,
      "outputs": [
        {
          "output_type": "execute_result",
          "data": {
            "text/plain": [
              "<matplotlib.axes._subplots.AxesSubplot at 0x7fc4eb54c710>"
            ]
          },
          "metadata": {},
          "execution_count": 23
        },
        {
          "output_type": "display_data",
          "data": {
            "image/png": "[encoded data removed]",
            "text/plain": [
              "<Figure size 432x288 with 1 Axes>"
            ]
          },
          "metadata": {
            "needs_background": "light"
          }
        }
      ]
    },
    {
      "cell_type": "code",
      "metadata": {
        "colab": {
          "base_uri": "https://localhost:8080/",
          "height": 617
        },
        "id": "_5EyiQNlC03C",
        "outputId": "5f272304-575c-495a-def1-b268b909dee1"
      },
      "source": [
        "from sklearn.preprocessing import LabelEncoder\n",
        "from sklearn.preprocessing import OneHotEncoder\n",
        "labelencoder = LabelEncoder()\n",
        "# Assigning numerical values and storing in another column\n",
        "store_data_merged['StoreType'] = labelencoder.fit_transform(store_data_merged['StoreType'])\n",
        "store_data_merged['Assortment'] = labelencoder.fit_transform(store_data_merged['Assortment'])\n",
        "#store_data_merged['StateHoliday'] = labelencoder.fit_transform(store_data_merged['StateHoliday'])\n",
        "cat_features=[x for x in store_data_merged.columns if store_data_merged[x].dtype==\"object\"]\n",
        "for col in cat_features:\n",
        "    if col in store_data_merged.columns:\n",
        "        i = store_data_merged.columns.get_loc(col)\n",
        "        store_data_merged.iloc[:,i] = store_data_merged.apply(lambda i:labelencoder.fit_transform(i.astype(str)), axis=0, result_type='expand')\n",
        "store_data_merged\n"
      ],
      "execution_count": null,
      "outputs": [
        {
          "output_type": "execute_result",
          "data": {
            "text/html": [
              "<div>\n",
              "<style scoped>\n",
              "    .dataframe tbody tr th:only-of-type {\n",
              "        vertical-align: middle;\n",
              "    }\n",
              "\n",
              "    .dataframe tbody tr th {\n",
              "        vertical-align: top;\n",
              "    }\n",
              "\n",
              "    .dataframe thead th {\n",
              "        text-align: right;\n",
              "    }\n",
              "</style>\n",
              "<table border=\"1\" class=\"dataframe\">\n",
              "  <thead>\n",
              "    <tr style=\"text-align: right;\">\n",
              "      <th></th>\n",
              "      <th>index</th>\n",
              "      <th>Store</th>\n",
              "      <th>DayOfWeek</th>\n",
              "      <th>Date</th>\n",
              "      <th>Sales</th>\n",
              "      <th>Customers</th>\n",
              "      <th>Open</th>\n",
              "      <th>Promo</th>\n",
              "      <th>StateHoliday</th>\n",
              "      <th>SchoolHoliday</th>\n",
              "      <th>Year</th>\n",
              "      <th>Month</th>\n",
              "      <th>StoreType</th>\n",
              "      <th>Assortment</th>\n",
              "      <th>CompetitionDistance</th>\n",
              "      <th>Promo2</th>\n",
              "      <th>day_diff_comp</th>\n",
              "      <th>day_diff_promo</th>\n",
              "    </tr>\n",
              "  </thead>\n",
              "  <tbody>\n",
              "    <tr>\n",
              "      <th>0</th>\n",
              "      <td>0</td>\n",
              "      <td>1</td>\n",
              "      <td>5</td>\n",
              "      <td>2015-07-31</td>\n",
              "      <td>5263</td>\n",
              "      <td>555</td>\n",
              "      <td>1</td>\n",
              "      <td>1</td>\n",
              "      <td>0</td>\n",
              "      <td>1</td>\n",
              "      <td>2015</td>\n",
              "      <td>7</td>\n",
              "      <td>2</td>\n",
              "      <td>0</td>\n",
              "      <td>1270</td>\n",
              "      <td>0</td>\n",
              "      <td>2524</td>\n",
              "      <td>0</td>\n",
              "    </tr>\n",
              "    <tr>\n",
              "      <th>1</th>\n",
              "      <td>1</td>\n",
              "      <td>1</td>\n",
              "      <td>4</td>\n",
              "      <td>2015-07-30</td>\n",
              "      <td>5020</td>\n",
              "      <td>546</td>\n",
              "      <td>1</td>\n",
              "      <td>1</td>\n",
              "      <td>0</td>\n",
              "      <td>1</td>\n",
              "      <td>2015</td>\n",
              "      <td>7</td>\n",
              "      <td>2</td>\n",
              "      <td>0</td>\n",
              "      <td>1270</td>\n",
              "      <td>0</td>\n",
              "      <td>2523</td>\n",
              "      <td>0</td>\n",
              "    </tr>\n",
              "    <tr>\n",
              "      <th>2</th>\n",
              "      <td>2</td>\n",
              "      <td>1</td>\n",
              "      <td>3</td>\n",
              "      <td>2015-07-29</td>\n",
              "      <td>4782</td>\n",
              "      <td>523</td>\n",
              "      <td>1</td>\n",
              "      <td>1</td>\n",
              "      <td>0</td>\n",
              "      <td>1</td>\n",
              "      <td>2015</td>\n",
              "      <td>7</td>\n",
              "      <td>2</td>\n",
              "      <td>0</td>\n",
              "      <td>1270</td>\n",
              "      <td>0</td>\n",
              "      <td>2522</td>\n",
              "      <td>0</td>\n",
              "    </tr>\n",
              "    <tr>\n",
              "      <th>3</th>\n",
              "      <td>3</td>\n",
              "      <td>1</td>\n",
              "      <td>2</td>\n",
              "      <td>2015-07-28</td>\n",
              "      <td>5011</td>\n",
              "      <td>560</td>\n",
              "      <td>1</td>\n",
              "      <td>1</td>\n",
              "      <td>0</td>\n",
              "      <td>1</td>\n",
              "      <td>2015</td>\n",
              "      <td>7</td>\n",
              "      <td>2</td>\n",
              "      <td>0</td>\n",
              "      <td>1270</td>\n",
              "      <td>0</td>\n",
              "      <td>2521</td>\n",
              "      <td>0</td>\n",
              "    </tr>\n",
              "    <tr>\n",
              "      <th>4</th>\n",
              "      <td>4</td>\n",
              "      <td>1</td>\n",
              "      <td>1</td>\n",
              "      <td>2015-07-27</td>\n",
              "      <td>6102</td>\n",
              "      <td>612</td>\n",
              "      <td>1</td>\n",
              "      <td>1</td>\n",
              "      <td>0</td>\n",
              "      <td>1</td>\n",
              "      <td>2015</td>\n",
              "      <td>7</td>\n",
              "      <td>2</td>\n",
              "      <td>0</td>\n",
              "      <td>1270</td>\n",
              "      <td>0</td>\n",
              "      <td>2520</td>\n",
              "      <td>0</td>\n",
              "    </tr>\n",
              "    <tr>\n",
              "      <th>...</th>\n",
              "      <td>...</td>\n",
              "      <td>...</td>\n",
              "      <td>...</td>\n",
              "      <td>...</td>\n",
              "      <td>...</td>\n",
              "      <td>...</td>\n",
              "      <td>...</td>\n",
              "      <td>...</td>\n",
              "      <td>...</td>\n",
              "      <td>...</td>\n",
              "      <td>...</td>\n",
              "      <td>...</td>\n",
              "      <td>...</td>\n",
              "      <td>...</td>\n",
              "      <td>...</td>\n",
              "      <td>...</td>\n",
              "      <td>...</td>\n",
              "      <td>...</td>\n",
              "    </tr>\n",
              "    <tr>\n",
              "      <th>842201</th>\n",
              "      <td>842201</td>\n",
              "      <td>292</td>\n",
              "      <td>1</td>\n",
              "      <td>2013-01-07</td>\n",
              "      <td>9291</td>\n",
              "      <td>1002</td>\n",
              "      <td>1</td>\n",
              "      <td>1</td>\n",
              "      <td>0</td>\n",
              "      <td>0</td>\n",
              "      <td>2013</td>\n",
              "      <td>1</td>\n",
              "      <td>0</td>\n",
              "      <td>0</td>\n",
              "      <td>1100</td>\n",
              "      <td>0</td>\n",
              "      <td>1316</td>\n",
              "      <td>0</td>\n",
              "    </tr>\n",
              "    <tr>\n",
              "      <th>842202</th>\n",
              "      <td>842202</td>\n",
              "      <td>292</td>\n",
              "      <td>6</td>\n",
              "      <td>2013-01-05</td>\n",
              "      <td>2748</td>\n",
              "      <td>340</td>\n",
              "      <td>1</td>\n",
              "      <td>0</td>\n",
              "      <td>0</td>\n",
              "      <td>0</td>\n",
              "      <td>2013</td>\n",
              "      <td>1</td>\n",
              "      <td>0</td>\n",
              "      <td>0</td>\n",
              "      <td>1100</td>\n",
              "      <td>0</td>\n",
              "      <td>1314</td>\n",
              "      <td>0</td>\n",
              "    </tr>\n",
              "    <tr>\n",
              "      <th>842203</th>\n",
              "      <td>842203</td>\n",
              "      <td>292</td>\n",
              "      <td>5</td>\n",
              "      <td>2013-01-04</td>\n",
              "      <td>4202</td>\n",
              "      <td>560</td>\n",
              "      <td>1</td>\n",
              "      <td>0</td>\n",
              "      <td>0</td>\n",
              "      <td>1</td>\n",
              "      <td>2013</td>\n",
              "      <td>1</td>\n",
              "      <td>0</td>\n",
              "      <td>0</td>\n",
              "      <td>1100</td>\n",
              "      <td>0</td>\n",
              "      <td>1313</td>\n",
              "      <td>0</td>\n",
              "    </tr>\n",
              "    <tr>\n",
              "      <th>842204</th>\n",
              "      <td>842204</td>\n",
              "      <td>292</td>\n",
              "      <td>4</td>\n",
              "      <td>2013-01-03</td>\n",
              "      <td>4580</td>\n",
              "      <td>662</td>\n",
              "      <td>1</td>\n",
              "      <td>0</td>\n",
              "      <td>0</td>\n",
              "      <td>1</td>\n",
              "      <td>2013</td>\n",
              "      <td>1</td>\n",
              "      <td>0</td>\n",
              "      <td>0</td>\n",
              "      <td>1100</td>\n",
              "      <td>0</td>\n",
              "      <td>1312</td>\n",
              "      <td>0</td>\n",
              "    </tr>\n",
              "    <tr>\n",
              "      <th>842205</th>\n",
              "      <td>842205</td>\n",
              "      <td>292</td>\n",
              "      <td>3</td>\n",
              "      <td>2013-01-02</td>\n",
              "      <td>5076</td>\n",
              "      <td>672</td>\n",
              "      <td>1</td>\n",
              "      <td>0</td>\n",
              "      <td>0</td>\n",
              "      <td>1</td>\n",
              "      <td>2013</td>\n",
              "      <td>1</td>\n",
              "      <td>0</td>\n",
              "      <td>0</td>\n",
              "      <td>1100</td>\n",
              "      <td>0</td>\n",
              "      <td>1311</td>\n",
              "      <td>0</td>\n",
              "    </tr>\n",
              "  </tbody>\n",
              "</table>\n",
              "<p>842206 rows × 18 columns</p>\n",
              "</div>"
            ],
            "text/plain": [
              "         index  Store  DayOfWeek  ... Promo2  day_diff_comp  day_diff_promo\n",
              "0            0      1          5  ...      0           2524               0\n",
              "1            1      1          4  ...      0           2523               0\n",
              "2            2      1          3  ...      0           2522               0\n",
              "3            3      1          2  ...      0           2521               0\n",
              "4            4      1          1  ...      0           2520               0\n",
              "...        ...    ...        ...  ...    ...            ...             ...\n",
              "842201  842201    292          1  ...      0           1316               0\n",
              "842202  842202    292          6  ...      0           1314               0\n",
              "842203  842203    292          5  ...      0           1313               0\n",
              "842204  842204    292          4  ...      0           1312               0\n",
              "842205  842205    292          3  ...      0           1311               0\n",
              "\n",
              "[842206 rows x 18 columns]"
            ]
          },
          "metadata": {},
          "execution_count": 24
        }
      ]
    },
    {
      "cell_type": "code",
      "metadata": {
        "id": "Pcy6DmCFLV5a",
        "colab": {
          "base_uri": "https://localhost:8080/",
          "height": 617
        },
        "outputId": "fc8ad650-02fa-4eea-d141-6adfb14d2e8b"
      },
      "source": [
        "#store_data_final=\n",
        "pd.get_dummies(store_data_merged,drop_first=True)\n"
      ],
      "execution_count": null,
      "outputs": [
        {
          "output_type": "execute_result",
          "data": {
            "text/html": [
              "<div>\n",
              "<style scoped>\n",
              "    .dataframe tbody tr th:only-of-type {\n",
              "        vertical-align: middle;\n",
              "    }\n",
              "\n",
              "    .dataframe tbody tr th {\n",
              "        vertical-align: top;\n",
              "    }\n",
              "\n",
              "    .dataframe thead th {\n",
              "        text-align: right;\n",
              "    }\n",
              "</style>\n",
              "<table border=\"1\" class=\"dataframe\">\n",
              "  <thead>\n",
              "    <tr style=\"text-align: right;\">\n",
              "      <th></th>\n",
              "      <th>index</th>\n",
              "      <th>Store</th>\n",
              "      <th>DayOfWeek</th>\n",
              "      <th>Date</th>\n",
              "      <th>Sales</th>\n",
              "      <th>Customers</th>\n",
              "      <th>Open</th>\n",
              "      <th>Promo</th>\n",
              "      <th>StateHoliday</th>\n",
              "      <th>SchoolHoliday</th>\n",
              "      <th>Year</th>\n",
              "      <th>Month</th>\n",
              "      <th>StoreType</th>\n",
              "      <th>Assortment</th>\n",
              "      <th>CompetitionDistance</th>\n",
              "      <th>Promo2</th>\n",
              "      <th>day_diff_comp</th>\n",
              "      <th>day_diff_promo</th>\n",
              "    </tr>\n",
              "  </thead>\n",
              "  <tbody>\n",
              "    <tr>\n",
              "      <th>0</th>\n",
              "      <td>0</td>\n",
              "      <td>1</td>\n",
              "      <td>5</td>\n",
              "      <td>2015-07-31</td>\n",
              "      <td>5263</td>\n",
              "      <td>555</td>\n",
              "      <td>1</td>\n",
              "      <td>1</td>\n",
              "      <td>0</td>\n",
              "      <td>1</td>\n",
              "      <td>2015</td>\n",
              "      <td>7</td>\n",
              "      <td>2</td>\n",
              "      <td>0</td>\n",
              "      <td>1270</td>\n",
              "      <td>0</td>\n",
              "      <td>2524</td>\n",
              "      <td>0</td>\n",
              "    </tr>\n",
              "    <tr>\n",
              "      <th>1</th>\n",
              "      <td>1</td>\n",
              "      <td>1</td>\n",
              "      <td>4</td>\n",
              "      <td>2015-07-30</td>\n",
              "      <td>5020</td>\n",
              "      <td>546</td>\n",
              "      <td>1</td>\n",
              "      <td>1</td>\n",
              "      <td>0</td>\n",
              "      <td>1</td>\n",
              "      <td>2015</td>\n",
              "      <td>7</td>\n",
              "      <td>2</td>\n",
              "      <td>0</td>\n",
              "      <td>1270</td>\n",
              "      <td>0</td>\n",
              "      <td>2523</td>\n",
              "      <td>0</td>\n",
              "    </tr>\n",
              "    <tr>\n",
              "      <th>2</th>\n",
              "      <td>2</td>\n",
              "      <td>1</td>\n",
              "      <td>3</td>\n",
              "      <td>2015-07-29</td>\n",
              "      <td>4782</td>\n",
              "      <td>523</td>\n",
              "      <td>1</td>\n",
              "      <td>1</td>\n",
              "      <td>0</td>\n",
              "      <td>1</td>\n",
              "      <td>2015</td>\n",
              "      <td>7</td>\n",
              "      <td>2</td>\n",
              "      <td>0</td>\n",
              "      <td>1270</td>\n",
              "      <td>0</td>\n",
              "      <td>2522</td>\n",
              "      <td>0</td>\n",
              "    </tr>\n",
              "    <tr>\n",
              "      <th>3</th>\n",
              "      <td>3</td>\n",
              "      <td>1</td>\n",
              "      <td>2</td>\n",
              "      <td>2015-07-28</td>\n",
              "      <td>5011</td>\n",
              "      <td>560</td>\n",
              "      <td>1</td>\n",
              "      <td>1</td>\n",
              "      <td>0</td>\n",
              "      <td>1</td>\n",
              "      <td>2015</td>\n",
              "      <td>7</td>\n",
              "      <td>2</td>\n",
              "      <td>0</td>\n",
              "      <td>1270</td>\n",
              "      <td>0</td>\n",
              "      <td>2521</td>\n",
              "      <td>0</td>\n",
              "    </tr>\n",
              "    <tr>\n",
              "      <th>4</th>\n",
              "      <td>4</td>\n",
              "      <td>1</td>\n",
              "      <td>1</td>\n",
              "      <td>2015-07-27</td>\n",
              "      <td>6102</td>\n",
              "      <td>612</td>\n",
              "      <td>1</td>\n",
              "      <td>1</td>\n",
              "      <td>0</td>\n",
              "      <td>1</td>\n",
              "      <td>2015</td>\n",
              "      <td>7</td>\n",
              "      <td>2</td>\n",
              "      <td>0</td>\n",
              "      <td>1270</td>\n",
              "      <td>0</td>\n",
              "      <td>2520</td>\n",
              "      <td>0</td>\n",
              "    </tr>\n",
              "    <tr>\n",
              "      <th>...</th>\n",
              "      <td>...</td>\n",
              "      <td>...</td>\n",
              "      <td>...</td>\n",
              "      <td>...</td>\n",
              "      <td>...</td>\n",
              "      <td>...</td>\n",
              "      <td>...</td>\n",
              "      <td>...</td>\n",
              "      <td>...</td>\n",
              "      <td>...</td>\n",
              "      <td>...</td>\n",
              "      <td>...</td>\n",
              "      <td>...</td>\n",
              "      <td>...</td>\n",
              "      <td>...</td>\n",
              "      <td>...</td>\n",
              "      <td>...</td>\n",
              "      <td>...</td>\n",
              "    </tr>\n",
              "    <tr>\n",
              "      <th>842201</th>\n",
              "      <td>842201</td>\n",
              "      <td>292</td>\n",
              "      <td>1</td>\n",
              "      <td>2013-01-07</td>\n",
              "      <td>9291</td>\n",
              "      <td>1002</td>\n",
              "      <td>1</td>\n",
              "      <td>1</td>\n",
              "      <td>0</td>\n",
              "      <td>0</td>\n",
              "      <td>2013</td>\n",
              "      <td>1</td>\n",
              "      <td>0</td>\n",
              "      <td>0</td>\n",
              "      <td>1100</td>\n",
              "      <td>0</td>\n",
              "      <td>1316</td>\n",
              "      <td>0</td>\n",
              "    </tr>\n",
              "    <tr>\n",
              "      <th>842202</th>\n",
              "      <td>842202</td>\n",
              "      <td>292</td>\n",
              "      <td>6</td>\n",
              "      <td>2013-01-05</td>\n",
              "      <td>2748</td>\n",
              "      <td>340</td>\n",
              "      <td>1</td>\n",
              "      <td>0</td>\n",
              "      <td>0</td>\n",
              "      <td>0</td>\n",
              "      <td>2013</td>\n",
              "      <td>1</td>\n",
              "      <td>0</td>\n",
              "      <td>0</td>\n",
              "      <td>1100</td>\n",
              "      <td>0</td>\n",
              "      <td>1314</td>\n",
              "      <td>0</td>\n",
              "    </tr>\n",
              "    <tr>\n",
              "      <th>842203</th>\n",
              "      <td>842203</td>\n",
              "      <td>292</td>\n",
              "      <td>5</td>\n",
              "      <td>2013-01-04</td>\n",
              "      <td>4202</td>\n",
              "      <td>560</td>\n",
              "      <td>1</td>\n",
              "      <td>0</td>\n",
              "      <td>0</td>\n",
              "      <td>1</td>\n",
              "      <td>2013</td>\n",
              "      <td>1</td>\n",
              "      <td>0</td>\n",
              "      <td>0</td>\n",
              "      <td>1100</td>\n",
              "      <td>0</td>\n",
              "      <td>1313</td>\n",
              "      <td>0</td>\n",
              "    </tr>\n",
              "    <tr>\n",
              "      <th>842204</th>\n",
              "      <td>842204</td>\n",
              "      <td>292</td>\n",
              "      <td>4</td>\n",
              "      <td>2013-01-03</td>\n",
              "      <td>4580</td>\n",
              "      <td>662</td>\n",
              "      <td>1</td>\n",
              "      <td>0</td>\n",
              "      <td>0</td>\n",
              "      <td>1</td>\n",
              "      <td>2013</td>\n",
              "      <td>1</td>\n",
              "      <td>0</td>\n",
              "      <td>0</td>\n",
              "      <td>1100</td>\n",
              "      <td>0</td>\n",
              "      <td>1312</td>\n",
              "      <td>0</td>\n",
              "    </tr>\n",
              "    <tr>\n",
              "      <th>842205</th>\n",
              "      <td>842205</td>\n",
              "      <td>292</td>\n",
              "      <td>3</td>\n",
              "      <td>2013-01-02</td>\n",
              "      <td>5076</td>\n",
              "      <td>672</td>\n",
              "      <td>1</td>\n",
              "      <td>0</td>\n",
              "      <td>0</td>\n",
              "      <td>1</td>\n",
              "      <td>2013</td>\n",
              "      <td>1</td>\n",
              "      <td>0</td>\n",
              "      <td>0</td>\n",
              "      <td>1100</td>\n",
              "      <td>0</td>\n",
              "      <td>1311</td>\n",
              "      <td>0</td>\n",
              "    </tr>\n",
              "  </tbody>\n",
              "</table>\n",
              "<p>842206 rows × 18 columns</p>\n",
              "</div>"
            ],
            "text/plain": [
              "         index  Store  DayOfWeek  ... Promo2  day_diff_comp  day_diff_promo\n",
              "0            0      1          5  ...      0           2524               0\n",
              "1            1      1          4  ...      0           2523               0\n",
              "2            2      1          3  ...      0           2522               0\n",
              "3            3      1          2  ...      0           2521               0\n",
              "4            4      1          1  ...      0           2520               0\n",
              "...        ...    ...        ...  ...    ...            ...             ...\n",
              "842201  842201    292          1  ...      0           1316               0\n",
              "842202  842202    292          6  ...      0           1314               0\n",
              "842203  842203    292          5  ...      0           1313               0\n",
              "842204  842204    292          4  ...      0           1312               0\n",
              "842205  842205    292          3  ...      0           1311               0\n",
              "\n",
              "[842206 rows x 18 columns]"
            ]
          },
          "metadata": {},
          "execution_count": 25
        }
      ]
    },
    {
      "cell_type": "code",
      "metadata": {
        "colab": {
          "base_uri": "https://localhost:8080/"
        },
        "id": "GsJaBIGfLV27",
        "outputId": "3b6d7e53-da0f-46e2-fa5e-2644af5e272f"
      },
      "source": [
        "store_data_merged.isna().sum()\n"
      ],
      "execution_count": null,
      "outputs": [
        {
          "output_type": "execute_result",
          "data": {
            "text/plain": [
              "index                  0\n",
              "Store                  0\n",
              "DayOfWeek              0\n",
              "Date                   0\n",
              "Sales                  0\n",
              "Customers              0\n",
              "Open                   0\n",
              "Promo                  0\n",
              "StateHoliday           0\n",
              "SchoolHoliday          0\n",
              "Year                   0\n",
              "Month                  0\n",
              "StoreType              0\n",
              "Assortment             0\n",
              "CompetitionDistance    0\n",
              "Promo2                 0\n",
              "day_diff_comp          0\n",
              "day_diff_promo         0\n",
              "dtype: int64"
            ]
          },
          "metadata": {},
          "execution_count": 181
        }
      ]
    },
    {
      "cell_type": "code",
      "metadata": {
        "id": "YCrl9TehLV0L"
      },
      "source": [
        "store_data_merged.drop(columns=['Date'],inplace=True) ## Dropping Date column as month and year have been extracted"
      ],
      "execution_count": null,
      "outputs": []
    },
    {
      "cell_type": "code",
      "metadata": {
        "id": "JEubqWgtvlWC"
      },
      "source": [
        "store_data_merged = store_data_merged.reset_index()"
      ],
      "execution_count": null,
      "outputs": []
    },
    {
      "cell_type": "code",
      "metadata": {
        "id": "YeYMzJuav3fU"
      },
      "source": [
        "def clean_dataset(store_data_merged):\n",
        "    assert isinstance(store_data_merged, pd.DataFrame)\n",
        "    store_data_merged.dropna(inplace=True)\n",
        "    indices_to_keep = ~store_data_merged.isin([np.nan, np.inf, -np.inf]).any(1)\n",
        "    return df[indices_to_keep].astype(np.float64)"
      ],
      "execution_count": null,
      "outputs": []
    },
    {
      "cell_type": "code",
      "metadata": {
        "id": "LyTkKy7mwVFX"
      },
      "source": [
        "store_data_merged.replace([np.inf, -np.inf], np.nan, inplace=True)"
      ],
      "execution_count": null,
      "outputs": []
    },
    {
      "cell_type": "code",
      "metadata": {
        "colab": {
          "base_uri": "https://localhost:8080/",
          "height": 226
        },
        "id": "ERpiLa0JLfAR",
        "outputId": "ba23236f-12d7-4ee6-fe1c-640db5d20407"
      },
      "source": [
        "store_data_merged.head()"
      ],
      "execution_count": null,
      "outputs": [
        {
          "output_type": "execute_result",
          "data": {
            "text/html": [
              "<div>\n",
              "<style scoped>\n",
              "    .dataframe tbody tr th:only-of-type {\n",
              "        vertical-align: middle;\n",
              "    }\n",
              "\n",
              "    .dataframe tbody tr th {\n",
              "        vertical-align: top;\n",
              "    }\n",
              "\n",
              "    .dataframe thead th {\n",
              "        text-align: right;\n",
              "    }\n",
              "</style>\n",
              "<table border=\"1\" class=\"dataframe\">\n",
              "  <thead>\n",
              "    <tr style=\"text-align: right;\">\n",
              "      <th></th>\n",
              "      <th>level_0</th>\n",
              "      <th>index</th>\n",
              "      <th>Store</th>\n",
              "      <th>DayOfWeek</th>\n",
              "      <th>Sales</th>\n",
              "      <th>Customers</th>\n",
              "      <th>Open</th>\n",
              "      <th>Promo</th>\n",
              "      <th>StateHoliday</th>\n",
              "      <th>SchoolHoliday</th>\n",
              "      <th>Year</th>\n",
              "      <th>Month</th>\n",
              "      <th>StoreType</th>\n",
              "      <th>Assortment</th>\n",
              "      <th>CompetitionDistance</th>\n",
              "      <th>Promo2</th>\n",
              "      <th>day_diff_comp</th>\n",
              "      <th>day_diff_promo</th>\n",
              "    </tr>\n",
              "  </thead>\n",
              "  <tbody>\n",
              "    <tr>\n",
              "      <th>0</th>\n",
              "      <td>0</td>\n",
              "      <td>0</td>\n",
              "      <td>1</td>\n",
              "      <td>5</td>\n",
              "      <td>5263</td>\n",
              "      <td>555</td>\n",
              "      <td>1</td>\n",
              "      <td>1</td>\n",
              "      <td>0</td>\n",
              "      <td>1</td>\n",
              "      <td>2015</td>\n",
              "      <td>7</td>\n",
              "      <td>2</td>\n",
              "      <td>0</td>\n",
              "      <td>1270</td>\n",
              "      <td>0</td>\n",
              "      <td>2524</td>\n",
              "      <td>0</td>\n",
              "    </tr>\n",
              "    <tr>\n",
              "      <th>1</th>\n",
              "      <td>1</td>\n",
              "      <td>1</td>\n",
              "      <td>1</td>\n",
              "      <td>4</td>\n",
              "      <td>5020</td>\n",
              "      <td>546</td>\n",
              "      <td>1</td>\n",
              "      <td>1</td>\n",
              "      <td>0</td>\n",
              "      <td>1</td>\n",
              "      <td>2015</td>\n",
              "      <td>7</td>\n",
              "      <td>2</td>\n",
              "      <td>0</td>\n",
              "      <td>1270</td>\n",
              "      <td>0</td>\n",
              "      <td>2523</td>\n",
              "      <td>0</td>\n",
              "    </tr>\n",
              "    <tr>\n",
              "      <th>2</th>\n",
              "      <td>2</td>\n",
              "      <td>2</td>\n",
              "      <td>1</td>\n",
              "      <td>3</td>\n",
              "      <td>4782</td>\n",
              "      <td>523</td>\n",
              "      <td>1</td>\n",
              "      <td>1</td>\n",
              "      <td>0</td>\n",
              "      <td>1</td>\n",
              "      <td>2015</td>\n",
              "      <td>7</td>\n",
              "      <td>2</td>\n",
              "      <td>0</td>\n",
              "      <td>1270</td>\n",
              "      <td>0</td>\n",
              "      <td>2522</td>\n",
              "      <td>0</td>\n",
              "    </tr>\n",
              "    <tr>\n",
              "      <th>3</th>\n",
              "      <td>3</td>\n",
              "      <td>3</td>\n",
              "      <td>1</td>\n",
              "      <td>2</td>\n",
              "      <td>5011</td>\n",
              "      <td>560</td>\n",
              "      <td>1</td>\n",
              "      <td>1</td>\n",
              "      <td>0</td>\n",
              "      <td>1</td>\n",
              "      <td>2015</td>\n",
              "      <td>7</td>\n",
              "      <td>2</td>\n",
              "      <td>0</td>\n",
              "      <td>1270</td>\n",
              "      <td>0</td>\n",
              "      <td>2521</td>\n",
              "      <td>0</td>\n",
              "    </tr>\n",
              "    <tr>\n",
              "      <th>4</th>\n",
              "      <td>4</td>\n",
              "      <td>4</td>\n",
              "      <td>1</td>\n",
              "      <td>1</td>\n",
              "      <td>6102</td>\n",
              "      <td>612</td>\n",
              "      <td>1</td>\n",
              "      <td>1</td>\n",
              "      <td>0</td>\n",
              "      <td>1</td>\n",
              "      <td>2015</td>\n",
              "      <td>7</td>\n",
              "      <td>2</td>\n",
              "      <td>0</td>\n",
              "      <td>1270</td>\n",
              "      <td>0</td>\n",
              "      <td>2520</td>\n",
              "      <td>0</td>\n",
              "    </tr>\n",
              "  </tbody>\n",
              "</table>\n",
              "</div>"
            ],
            "text/plain": [
              "   level_0  index  Store  ...  Promo2  day_diff_comp  day_diff_promo\n",
              "0        0      0      1  ...       0           2524               0\n",
              "1        1      1      1  ...       0           2523               0\n",
              "2        2      2      1  ...       0           2522               0\n",
              "3        3      3      1  ...       0           2521               0\n",
              "4        4      4      1  ...       0           2520               0\n",
              "\n",
              "[5 rows x 18 columns]"
            ]
          },
          "metadata": {},
          "execution_count": 186
        }
      ]
    },
    {
      "cell_type": "code",
      "metadata": {
        "colab": {
          "base_uri": "https://localhost:8080/"
        },
        "id": "CaST5hKY1zwW",
        "outputId": "e687e5f8-7ace-470e-999c-3ceff5af74ed"
      },
      "source": [
        "store_data_merged.info()"
      ],
      "execution_count": null,
      "outputs": [
        {
          "output_type": "stream",
          "name": "stdout",
          "text": [
            "<class 'pandas.core.frame.DataFrame'>\n",
            "RangeIndex: 842206 entries, 0 to 842205\n",
            "Data columns (total 18 columns):\n",
            " #   Column               Non-Null Count   Dtype\n",
            "---  ------               --------------   -----\n",
            " 0   level_0              842206 non-null  int64\n",
            " 1   index                842206 non-null  int64\n",
            " 2   Store                842206 non-null  int64\n",
            " 3   DayOfWeek            842206 non-null  int64\n",
            " 4   Sales                842206 non-null  int64\n",
            " 5   Customers            842206 non-null  int64\n",
            " 6   Open                 842206 non-null  int64\n",
            " 7   Promo                842206 non-null  int64\n",
            " 8   StateHoliday         842206 non-null  int64\n",
            " 9   SchoolHoliday        842206 non-null  int64\n",
            " 10  Year                 842206 non-null  int64\n",
            " 11  Month                842206 non-null  int64\n",
            " 12  StoreType            842206 non-null  int64\n",
            " 13  Assortment           842206 non-null  int64\n",
            " 14  CompetitionDistance  842206 non-null  int64\n",
            " 15  Promo2               842206 non-null  int64\n",
            " 16  day_diff_comp        842206 non-null  int64\n",
            " 17  day_diff_promo       842206 non-null  int64\n",
            "dtypes: int64(18)\n",
            "memory usage: 115.7 MB\n"
          ]
        }
      ]
    },
    {
      "cell_type": "code",
      "metadata": {
        "colab": {
          "base_uri": "https://localhost:8080/",
          "height": 381
        },
        "id": "Jtpdx0DbRIWM",
        "outputId": "884f7638-44fd-4afa-d397-80c90052d137"
      },
      "source": [
        "sns.heatmap(store_data_merged.isnull(),yticklabels=False)\n",
        "#From the heatmap, it is clear that there are no null values."
      ],
      "execution_count": null,
      "outputs": [
        {
          "output_type": "execute_result",
          "data": {
            "text/plain": [
              "<matplotlib.axes._subplots.AxesSubplot at 0x7fc4e84861d0>"
            ]
          },
          "metadata": {},
          "execution_count": 30
        },
        {
          "output_type": "display_data",
          "data": {
            "image/png": "[encoded data removed]",
            "text/plain": [
              "<Figure size 432x288 with 2 Axes>"
            ]
          },
          "metadata": {
            "needs_background": "light"
          }
        }
      ]
    },
    {
      "cell_type": "code",
      "metadata": {
        "colab": {
          "base_uri": "https://localhost:8080/",
          "height": 498
        },
        "id": "E2BEccYuRfU5",
        "outputId": "c38f8fc4-a913-4b1e-f90f-36a5fde3520e"
      },
      "source": [
        "# To check outliers \n",
        "#import matplotlib.pyplot as plt\n",
        "\n",
        "\n",
        "a4_dims = (11.7, 8.27)\n",
        "fig, ax = plt.subplots(figsize=a4_dims)\n",
        "g = sns.boxplot(data=store_data_merged,linewidth=2.5,ax=ax)\n",
        "g.set_yscale(\"log\")"
      ],
      "execution_count": null,
      "outputs": [
        {
          "output_type": "display_data",
          "data": {
            "image/png": "[encoded data removed]",
            "text/plain": [
              "<Figure size 842.4x595.44 with 1 Axes>"
            ]
          },
          "metadata": {
            "needs_background": "light"
          }
        }
      ]
    },
    {
      "cell_type": "code",
      "metadata": {
        "colab": {
          "base_uri": "https://localhost:8080/",
          "height": 703
        },
        "id": "dCSChR6LR2lJ",
        "outputId": "452b5217-1689-4be3-cccc-42e3e68436ca"
      },
      "source": [
        "#this correlation uses pearson method\n",
        "store_data_merged.corr().style.background_gradient(cmap='viridis')"
      ],
      "execution_count": null,
      "outputs": [
        {
          "output_type": "stream",
          "name": "stderr",
          "text": [
            "/usr/local/lib/python3.7/dist-packages/pandas/io/formats/style.py:1126: RuntimeWarning: All-NaN slice encountered\n",
            "  smin = np.nanmin(s.to_numpy()) if vmin is None else vmin\n",
            "/usr/local/lib/python3.7/dist-packages/pandas/io/formats/style.py:1127: RuntimeWarning: All-NaN slice encountered\n",
            "  smax = np.nanmax(s.to_numpy()) if vmax is None else vmax\n"
          ]
        },
        {
          "output_type": "execute_result",
          "data": {
            "text/html": [
              "<style  type=\"text/css\" >\n",
              "#T_e939a676_405a_11ec_b70f_0242ac1c0002row0_col0,#T_e939a676_405a_11ec_b70f_0242ac1c0002row0_col1,#T_e939a676_405a_11ec_b70f_0242ac1c0002row0_col2,#T_e939a676_405a_11ec_b70f_0242ac1c0002row1_col0,#T_e939a676_405a_11ec_b70f_0242ac1c0002row1_col1,#T_e939a676_405a_11ec_b70f_0242ac1c0002row1_col2,#T_e939a676_405a_11ec_b70f_0242ac1c0002row2_col0,#T_e939a676_405a_11ec_b70f_0242ac1c0002row2_col1,#T_e939a676_405a_11ec_b70f_0242ac1c0002row2_col2,#T_e939a676_405a_11ec_b70f_0242ac1c0002row3_col3,#T_e939a676_405a_11ec_b70f_0242ac1c0002row4_col4,#T_e939a676_405a_11ec_b70f_0242ac1c0002row5_col5,#T_e939a676_405a_11ec_b70f_0242ac1c0002row7_col7,#T_e939a676_405a_11ec_b70f_0242ac1c0002row8_col8,#T_e939a676_405a_11ec_b70f_0242ac1c0002row9_col9,#T_e939a676_405a_11ec_b70f_0242ac1c0002row10_col10,#T_e939a676_405a_11ec_b70f_0242ac1c0002row11_col11,#T_e939a676_405a_11ec_b70f_0242ac1c0002row12_col12,#T_e939a676_405a_11ec_b70f_0242ac1c0002row13_col13,#T_e939a676_405a_11ec_b70f_0242ac1c0002row14_col14,#T_e939a676_405a_11ec_b70f_0242ac1c0002row15_col15,#T_e939a676_405a_11ec_b70f_0242ac1c0002row16_col16,#T_e939a676_405a_11ec_b70f_0242ac1c0002row17_col17{\n",
              "            background-color:  #fde725;\n",
              "            color:  #000000;\n",
              "        }#T_e939a676_405a_11ec_b70f_0242ac1c0002row0_col3,#T_e939a676_405a_11ec_b70f_0242ac1c0002row0_col7,#T_e939a676_405a_11ec_b70f_0242ac1c0002row1_col3,#T_e939a676_405a_11ec_b70f_0242ac1c0002row1_col7,#T_e939a676_405a_11ec_b70f_0242ac1c0002row2_col3,#T_e939a676_405a_11ec_b70f_0242ac1c0002row2_col7,#T_e939a676_405a_11ec_b70f_0242ac1c0002row10_col3,#T_e939a676_405a_11ec_b70f_0242ac1c0002row11_col9,#T_e939a676_405a_11ec_b70f_0242ac1c0002row12_col3,#T_e939a676_405a_11ec_b70f_0242ac1c0002row12_col7,#T_e939a676_405a_11ec_b70f_0242ac1c0002row13_col3,#T_e939a676_405a_11ec_b70f_0242ac1c0002row13_col7,#T_e939a676_405a_11ec_b70f_0242ac1c0002row14_col12,#T_e939a676_405a_11ec_b70f_0242ac1c0002row14_col13,#T_e939a676_405a_11ec_b70f_0242ac1c0002row15_col7,#T_e939a676_405a_11ec_b70f_0242ac1c0002row16_col3,#T_e939a676_405a_11ec_b70f_0242ac1c0002row16_col7{\n",
              "            background-color:  #3e4a89;\n",
              "            color:  #f1f1f1;\n",
              "        }#T_e939a676_405a_11ec_b70f_0242ac1c0002row0_col4,#T_e939a676_405a_11ec_b70f_0242ac1c0002row1_col4,#T_e939a676_405a_11ec_b70f_0242ac1c0002row2_col4,#T_e939a676_405a_11ec_b70f_0242ac1c0002row8_col12,#T_e939a676_405a_11ec_b70f_0242ac1c0002row8_col15,#T_e939a676_405a_11ec_b70f_0242ac1c0002row11_col12{\n",
              "            background-color:  #453781;\n",
              "            color:  #f1f1f1;\n",
              "        }#T_e939a676_405a_11ec_b70f_0242ac1c0002row0_col5,#T_e939a676_405a_11ec_b70f_0242ac1c0002row1_col5,#T_e939a676_405a_11ec_b70f_0242ac1c0002row2_col5,#T_e939a676_405a_11ec_b70f_0242ac1c0002row3_col11{\n",
              "            background-color:  #414287;\n",
              "            color:  #f1f1f1;\n",
              "        }#T_e939a676_405a_11ec_b70f_0242ac1c0002row0_col6,#T_e939a676_405a_11ec_b70f_0242ac1c0002row1_col6,#T_e939a676_405a_11ec_b70f_0242ac1c0002row2_col6,#T_e939a676_405a_11ec_b70f_0242ac1c0002row3_col6,#T_e939a676_405a_11ec_b70f_0242ac1c0002row4_col6,#T_e939a676_405a_11ec_b70f_0242ac1c0002row5_col6,#T_e939a676_405a_11ec_b70f_0242ac1c0002row6_col0,#T_e939a676_405a_11ec_b70f_0242ac1c0002row6_col1,#T_e939a676_405a_11ec_b70f_0242ac1c0002row6_col2,#T_e939a676_405a_11ec_b70f_0242ac1c0002row6_col3,#T_e939a676_405a_11ec_b70f_0242ac1c0002row6_col4,#T_e939a676_405a_11ec_b70f_0242ac1c0002row6_col5,#T_e939a676_405a_11ec_b70f_0242ac1c0002row6_col6,#T_e939a676_405a_11ec_b70f_0242ac1c0002row6_col7,#T_e939a676_405a_11ec_b70f_0242ac1c0002row6_col8,#T_e939a676_405a_11ec_b70f_0242ac1c0002row6_col9,#T_e939a676_405a_11ec_b70f_0242ac1c0002row6_col10,#T_e939a676_405a_11ec_b70f_0242ac1c0002row6_col11,#T_e939a676_405a_11ec_b70f_0242ac1c0002row6_col12,#T_e939a676_405a_11ec_b70f_0242ac1c0002row6_col13,#T_e939a676_405a_11ec_b70f_0242ac1c0002row6_col14,#T_e939a676_405a_11ec_b70f_0242ac1c0002row6_col15,#T_e939a676_405a_11ec_b70f_0242ac1c0002row6_col16,#T_e939a676_405a_11ec_b70f_0242ac1c0002row6_col17,#T_e939a676_405a_11ec_b70f_0242ac1c0002row7_col6,#T_e939a676_405a_11ec_b70f_0242ac1c0002row8_col6,#T_e939a676_405a_11ec_b70f_0242ac1c0002row9_col6,#T_e939a676_405a_11ec_b70f_0242ac1c0002row10_col6,#T_e939a676_405a_11ec_b70f_0242ac1c0002row11_col6,#T_e939a676_405a_11ec_b70f_0242ac1c0002row12_col6,#T_e939a676_405a_11ec_b70f_0242ac1c0002row13_col6,#T_e939a676_405a_11ec_b70f_0242ac1c0002row14_col6,#T_e939a676_405a_11ec_b70f_0242ac1c0002row15_col6,#T_e939a676_405a_11ec_b70f_0242ac1c0002row16_col6,#T_e939a676_405a_11ec_b70f_0242ac1c0002row17_col6{\n",
              "            background-color:  #000000;\n",
              "            color:  #f1f1f1;\n",
              "        }#T_e939a676_405a_11ec_b70f_0242ac1c0002row0_col8,#T_e939a676_405a_11ec_b70f_0242ac1c0002row1_col8,#T_e939a676_405a_11ec_b70f_0242ac1c0002row2_col8,#T_e939a676_405a_11ec_b70f_0242ac1c0002row11_col8{\n",
              "            background-color:  #450559;\n",
              "            color:  #f1f1f1;\n",
              "        }#T_e939a676_405a_11ec_b70f_0242ac1c0002row0_col9,#T_e939a676_405a_11ec_b70f_0242ac1c0002row1_col9,#T_e939a676_405a_11ec_b70f_0242ac1c0002row2_col9,#T_e939a676_405a_11ec_b70f_0242ac1c0002row3_col17,#T_e939a676_405a_11ec_b70f_0242ac1c0002row9_col17,#T_e939a676_405a_11ec_b70f_0242ac1c0002row16_col9,#T_e939a676_405a_11ec_b70f_0242ac1c0002row16_col12{\n",
              "            background-color:  #472c7a;\n",
              "            color:  #f1f1f1;\n",
              "        }#T_e939a676_405a_11ec_b70f_0242ac1c0002row0_col10,#T_e939a676_405a_11ec_b70f_0242ac1c0002row0_col11,#T_e939a676_405a_11ec_b70f_0242ac1c0002row1_col10,#T_e939a676_405a_11ec_b70f_0242ac1c0002row1_col11,#T_e939a676_405a_11ec_b70f_0242ac1c0002row2_col10,#T_e939a676_405a_11ec_b70f_0242ac1c0002row2_col11,#T_e939a676_405a_11ec_b70f_0242ac1c0002row3_col10,#T_e939a676_405a_11ec_b70f_0242ac1c0002row5_col10,#T_e939a676_405a_11ec_b70f_0242ac1c0002row8_col10,#T_e939a676_405a_11ec_b70f_0242ac1c0002row11_col4,#T_e939a676_405a_11ec_b70f_0242ac1c0002row11_col5,#T_e939a676_405a_11ec_b70f_0242ac1c0002row13_col10,#T_e939a676_405a_11ec_b70f_0242ac1c0002row14_col10{\n",
              "            background-color:  #3f4788;\n",
              "            color:  #f1f1f1;\n",
              "        }#T_e939a676_405a_11ec_b70f_0242ac1c0002row0_col12,#T_e939a676_405a_11ec_b70f_0242ac1c0002row1_col12,#T_e939a676_405a_11ec_b70f_0242ac1c0002row5_col9,#T_e939a676_405a_11ec_b70f_0242ac1c0002row8_col9{\n",
              "            background-color:  #46327e;\n",
              "            color:  #f1f1f1;\n",
              "        }#T_e939a676_405a_11ec_b70f_0242ac1c0002row0_col13,#T_e939a676_405a_11ec_b70f_0242ac1c0002row0_col16,#T_e939a676_405a_11ec_b70f_0242ac1c0002row1_col13,#T_e939a676_405a_11ec_b70f_0242ac1c0002row1_col16,#T_e939a676_405a_11ec_b70f_0242ac1c0002row2_col16,#T_e939a676_405a_11ec_b70f_0242ac1c0002row3_col13,#T_e939a676_405a_11ec_b70f_0242ac1c0002row7_col16,#T_e939a676_405a_11ec_b70f_0242ac1c0002row10_col13,#T_e939a676_405a_11ec_b70f_0242ac1c0002row11_col16{\n",
              "            background-color:  #482173;\n",
              "            color:  #f1f1f1;\n",
              "        }#T_e939a676_405a_11ec_b70f_0242ac1c0002row0_col14,#T_e939a676_405a_11ec_b70f_0242ac1c0002row1_col14,#T_e939a676_405a_11ec_b70f_0242ac1c0002row2_col14{\n",
              "            background-color:  #482677;\n",
              "            color:  #f1f1f1;\n",
              "        }#T_e939a676_405a_11ec_b70f_0242ac1c0002row0_col15,#T_e939a676_405a_11ec_b70f_0242ac1c0002row1_col15,#T_e939a676_405a_11ec_b70f_0242ac1c0002row2_col15,#T_e939a676_405a_11ec_b70f_0242ac1c0002row13_col5{\n",
              "            background-color:  #443b84;\n",
              "            color:  #f1f1f1;\n",
              "        }#T_e939a676_405a_11ec_b70f_0242ac1c0002row0_col17,#T_e939a676_405a_11ec_b70f_0242ac1c0002row1_col17,#T_e939a676_405a_11ec_b70f_0242ac1c0002row2_col17,#T_e939a676_405a_11ec_b70f_0242ac1c0002row16_col14{\n",
              "            background-color:  #482878;\n",
              "            color:  #f1f1f1;\n",
              "        }#T_e939a676_405a_11ec_b70f_0242ac1c0002row2_col12,#T_e939a676_405a_11ec_b70f_0242ac1c0002row7_col9,#T_e939a676_405a_11ec_b70f_0242ac1c0002row11_col15,#T_e939a676_405a_11ec_b70f_0242ac1c0002row16_col4{\n",
              "            background-color:  #46337f;\n",
              "            color:  #f1f1f1;\n",
              "        }#T_e939a676_405a_11ec_b70f_0242ac1c0002row2_col13,#T_e939a676_405a_11ec_b70f_0242ac1c0002row4_col14,#T_e939a676_405a_11ec_b70f_0242ac1c0002row5_col13,#T_e939a676_405a_11ec_b70f_0242ac1c0002row11_col13{\n",
              "            background-color:  #482374;\n",
              "            color:  #f1f1f1;\n",
              "        }#T_e939a676_405a_11ec_b70f_0242ac1c0002row3_col0,#T_e939a676_405a_11ec_b70f_0242ac1c0002row3_col1,#T_e939a676_405a_11ec_b70f_0242ac1c0002row3_col2,#T_e939a676_405a_11ec_b70f_0242ac1c0002row7_col0,#T_e939a676_405a_11ec_b70f_0242ac1c0002row7_col1,#T_e939a676_405a_11ec_b70f_0242ac1c0002row7_col2,#T_e939a676_405a_11ec_b70f_0242ac1c0002row9_col0,#T_e939a676_405a_11ec_b70f_0242ac1c0002row9_col1,#T_e939a676_405a_11ec_b70f_0242ac1c0002row9_col2,#T_e939a676_405a_11ec_b70f_0242ac1c0002row10_col0,#T_e939a676_405a_11ec_b70f_0242ac1c0002row10_col1,#T_e939a676_405a_11ec_b70f_0242ac1c0002row10_col2{\n",
              "            background-color:  #460a5d;\n",
              "            color:  #f1f1f1;\n",
              "        }#T_e939a676_405a_11ec_b70f_0242ac1c0002row3_col4,#T_e939a676_405a_11ec_b70f_0242ac1c0002row3_col7,#T_e939a676_405a_11ec_b70f_0242ac1c0002row3_col9,#T_e939a676_405a_11ec_b70f_0242ac1c0002row5_col12,#T_e939a676_405a_11ec_b70f_0242ac1c0002row5_col14,#T_e939a676_405a_11ec_b70f_0242ac1c0002row5_col15,#T_e939a676_405a_11ec_b70f_0242ac1c0002row5_col17,#T_e939a676_405a_11ec_b70f_0242ac1c0002row7_col3,#T_e939a676_405a_11ec_b70f_0242ac1c0002row10_col11,#T_e939a676_405a_11ec_b70f_0242ac1c0002row11_col10,#T_e939a676_405a_11ec_b70f_0242ac1c0002row12_col0,#T_e939a676_405a_11ec_b70f_0242ac1c0002row12_col1,#T_e939a676_405a_11ec_b70f_0242ac1c0002row13_col16,#T_e939a676_405a_11ec_b70f_0242ac1c0002row14_col0,#T_e939a676_405a_11ec_b70f_0242ac1c0002row14_col1,#T_e939a676_405a_11ec_b70f_0242ac1c0002row14_col2,#T_e939a676_405a_11ec_b70f_0242ac1c0002row15_col5,#T_e939a676_405a_11ec_b70f_0242ac1c0002row15_col8,#T_e939a676_405a_11ec_b70f_0242ac1c0002row16_col13,#T_e939a676_405a_11ec_b70f_0242ac1c0002row17_col8{\n",
              "            background-color:  #440154;\n",
              "            color:  #f1f1f1;\n",
              "        }#T_e939a676_405a_11ec_b70f_0242ac1c0002row3_col5,#T_e939a676_405a_11ec_b70f_0242ac1c0002row3_col16,#T_e939a676_405a_11ec_b70f_0242ac1c0002row7_col13,#T_e939a676_405a_11ec_b70f_0242ac1c0002row8_col13,#T_e939a676_405a_11ec_b70f_0242ac1c0002row8_col16,#T_e939a676_405a_11ec_b70f_0242ac1c0002row9_col13,#T_e939a676_405a_11ec_b70f_0242ac1c0002row9_col16,#T_e939a676_405a_11ec_b70f_0242ac1c0002row10_col9,#T_e939a676_405a_11ec_b70f_0242ac1c0002row17_col14{\n",
              "            background-color:  #482071;\n",
              "            color:  #f1f1f1;\n",
              "        }#T_e939a676_405a_11ec_b70f_0242ac1c0002row3_col8,#T_e939a676_405a_11ec_b70f_0242ac1c0002row7_col8,#T_e939a676_405a_11ec_b70f_0242ac1c0002row12_col2,#T_e939a676_405a_11ec_b70f_0242ac1c0002row12_col5,#T_e939a676_405a_11ec_b70f_0242ac1c0002row12_col8,#T_e939a676_405a_11ec_b70f_0242ac1c0002row15_col14,#T_e939a676_405a_11ec_b70f_0242ac1c0002row16_col8{\n",
              "            background-color:  #440256;\n",
              "            color:  #f1f1f1;\n",
              "        }#T_e939a676_405a_11ec_b70f_0242ac1c0002row3_col12,#T_e939a676_405a_11ec_b70f_0242ac1c0002row7_col12,#T_e939a676_405a_11ec_b70f_0242ac1c0002row9_col12,#T_e939a676_405a_11ec_b70f_0242ac1c0002row9_col15,#T_e939a676_405a_11ec_b70f_0242ac1c0002row10_col12,#T_e939a676_405a_11ec_b70f_0242ac1c0002row10_col15{\n",
              "            background-color:  #453882;\n",
              "            color:  #f1f1f1;\n",
              "        }#T_e939a676_405a_11ec_b70f_0242ac1c0002row3_col14,#T_e939a676_405a_11ec_b70f_0242ac1c0002row8_col14{\n",
              "            background-color:  #472f7d;\n",
              "            color:  #f1f1f1;\n",
              "        }#T_e939a676_405a_11ec_b70f_0242ac1c0002row3_col15,#T_e939a676_405a_11ec_b70f_0242ac1c0002row10_col5,#T_e939a676_405a_11ec_b70f_0242ac1c0002row16_col5{\n",
              "            background-color:  #443983;\n",
              "            color:  #f1f1f1;\n",
              "        }#T_e939a676_405a_11ec_b70f_0242ac1c0002row4_col0,#T_e939a676_405a_11ec_b70f_0242ac1c0002row4_col1,#T_e939a676_405a_11ec_b70f_0242ac1c0002row4_col2,#T_e939a676_405a_11ec_b70f_0242ac1c0002row9_col8,#T_e939a676_405a_11ec_b70f_0242ac1c0002row13_col2,#T_e939a676_405a_11ec_b70f_0242ac1c0002row15_col2{\n",
              "            background-color:  #470d60;\n",
              "            color:  #f1f1f1;\n",
              "        }#T_e939a676_405a_11ec_b70f_0242ac1c0002row4_col3,#T_e939a676_405a_11ec_b70f_0242ac1c0002row4_col16,#T_e939a676_405a_11ec_b70f_0242ac1c0002row5_col16,#T_e939a676_405a_11ec_b70f_0242ac1c0002row14_col17{\n",
              "            background-color:  #481f70;\n",
              "            color:  #f1f1f1;\n",
              "        }#T_e939a676_405a_11ec_b70f_0242ac1c0002row4_col5{\n",
              "            background-color:  #9dd93b;\n",
              "            color:  #000000;\n",
              "        }#T_e939a676_405a_11ec_b70f_0242ac1c0002row4_col7{\n",
              "            background-color:  #20928c;\n",
              "            color:  #000000;\n",
              "        }#T_e939a676_405a_11ec_b70f_0242ac1c0002row4_col8,#T_e939a676_405a_11ec_b70f_0242ac1c0002row8_col0,#T_e939a676_405a_11ec_b70f_0242ac1c0002row8_col1,#T_e939a676_405a_11ec_b70f_0242ac1c0002row8_col2,#T_e939a676_405a_11ec_b70f_0242ac1c0002row11_col0,#T_e939a676_405a_11ec_b70f_0242ac1c0002row11_col1,#T_e939a676_405a_11ec_b70f_0242ac1c0002row11_col2,#T_e939a676_405a_11ec_b70f_0242ac1c0002row13_col0,#T_e939a676_405a_11ec_b70f_0242ac1c0002row13_col1,#T_e939a676_405a_11ec_b70f_0242ac1c0002row15_col0,#T_e939a676_405a_11ec_b70f_0242ac1c0002row15_col1,#T_e939a676_405a_11ec_b70f_0242ac1c0002row16_col0,#T_e939a676_405a_11ec_b70f_0242ac1c0002row16_col1,#T_e939a676_405a_11ec_b70f_0242ac1c0002row16_col2{\n",
              "            background-color:  #460b5e;\n",
              "            color:  #f1f1f1;\n",
              "        }#T_e939a676_405a_11ec_b70f_0242ac1c0002row4_col9{\n",
              "            background-color:  #453581;\n",
              "            color:  #f1f1f1;\n",
              "        }#T_e939a676_405a_11ec_b70f_0242ac1c0002row4_col10,#T_e939a676_405a_11ec_b70f_0242ac1c0002row17_col12{\n",
              "            background-color:  #3c4f8a;\n",
              "            color:  #f1f1f1;\n",
              "        }#T_e939a676_405a_11ec_b70f_0242ac1c0002row4_col11{\n",
              "            background-color:  #38588c;\n",
              "            color:  #f1f1f1;\n",
              "        }#T_e939a676_405a_11ec_b70f_0242ac1c0002row4_col12,#T_e939a676_405a_11ec_b70f_0242ac1c0002row5_col3{\n",
              "            background-color:  #463480;\n",
              "            color:  #f1f1f1;\n",
              "        }#T_e939a676_405a_11ec_b70f_0242ac1c0002row4_col13,#T_e939a676_405a_11ec_b70f_0242ac1c0002row9_col5{\n",
              "            background-color:  #424086;\n",
              "            color:  #f1f1f1;\n",
              "        }#T_e939a676_405a_11ec_b70f_0242ac1c0002row4_col15,#T_e939a676_405a_11ec_b70f_0242ac1c0002row5_col0,#T_e939a676_405a_11ec_b70f_0242ac1c0002row5_col1,#T_e939a676_405a_11ec_b70f_0242ac1c0002row5_col2,#T_e939a676_405a_11ec_b70f_0242ac1c0002row5_col8{\n",
              "            background-color:  #481769;\n",
              "            color:  #f1f1f1;\n",
              "        }#T_e939a676_405a_11ec_b70f_0242ac1c0002row4_col17,#T_e939a676_405a_11ec_b70f_0242ac1c0002row17_col13{\n",
              "            background-color:  #481c6e;\n",
              "            color:  #f1f1f1;\n",
              "        }#T_e939a676_405a_11ec_b70f_0242ac1c0002row5_col4{\n",
              "            background-color:  #9bd93c;\n",
              "            color:  #000000;\n",
              "        }#T_e939a676_405a_11ec_b70f_0242ac1c0002row5_col7{\n",
              "            background-color:  #2d708e;\n",
              "            color:  #f1f1f1;\n",
              "        }#T_e939a676_405a_11ec_b70f_0242ac1c0002row5_col11{\n",
              "            background-color:  #3a538b;\n",
              "            color:  #f1f1f1;\n",
              "        }#T_e939a676_405a_11ec_b70f_0242ac1c0002row7_col4{\n",
              "            background-color:  #24878e;\n",
              "            color:  #000000;\n",
              "        }#T_e939a676_405a_11ec_b70f_0242ac1c0002row7_col5{\n",
              "            background-color:  #32658e;\n",
              "            color:  #f1f1f1;\n",
              "        }#T_e939a676_405a_11ec_b70f_0242ac1c0002row7_col10{\n",
              "            background-color:  #3d4d8a;\n",
              "            color:  #f1f1f1;\n",
              "        }#T_e939a676_405a_11ec_b70f_0242ac1c0002row7_col11,#T_e939a676_405a_11ec_b70f_0242ac1c0002row12_col11{\n",
              "            background-color:  #404588;\n",
              "            color:  #f1f1f1;\n",
              "        }#T_e939a676_405a_11ec_b70f_0242ac1c0002row7_col14,#T_e939a676_405a_11ec_b70f_0242ac1c0002row9_col14{\n",
              "            background-color:  #472d7b;\n",
              "            color:  #f1f1f1;\n",
              "        }#T_e939a676_405a_11ec_b70f_0242ac1c0002row7_col15,#T_e939a676_405a_11ec_b70f_0242ac1c0002row8_col4,#T_e939a676_405a_11ec_b70f_0242ac1c0002row10_col16{\n",
              "            background-color:  #443a83;\n",
              "            color:  #f1f1f1;\n",
              "        }#T_e939a676_405a_11ec_b70f_0242ac1c0002row7_col17,#T_e939a676_405a_11ec_b70f_0242ac1c0002row10_col14,#T_e939a676_405a_11ec_b70f_0242ac1c0002row11_col14,#T_e939a676_405a_11ec_b70f_0242ac1c0002row11_col17{\n",
              "            background-color:  #472e7c;\n",
              "            color:  #f1f1f1;\n",
              "        }#T_e939a676_405a_11ec_b70f_0242ac1c0002row8_col3,#T_e939a676_405a_11ec_b70f_0242ac1c0002row8_col7,#T_e939a676_405a_11ec_b70f_0242ac1c0002row11_col7,#T_e939a676_405a_11ec_b70f_0242ac1c0002row14_col7,#T_e939a676_405a_11ec_b70f_0242ac1c0002row15_col3,#T_e939a676_405a_11ec_b70f_0242ac1c0002row17_col3{\n",
              "            background-color:  #3e4989;\n",
              "            color:  #f1f1f1;\n",
              "        }#T_e939a676_405a_11ec_b70f_0242ac1c0002row8_col5,#T_e939a676_405a_11ec_b70f_0242ac1c0002row11_col3,#T_e939a676_405a_11ec_b70f_0242ac1c0002row12_col10,#T_e939a676_405a_11ec_b70f_0242ac1c0002row12_col17,#T_e939a676_405a_11ec_b70f_0242ac1c0002row15_col10{\n",
              "            background-color:  #404688;\n",
              "            color:  #f1f1f1;\n",
              "        }#T_e939a676_405a_11ec_b70f_0242ac1c0002row8_col11,#T_e939a676_405a_11ec_b70f_0242ac1c0002row13_col11,#T_e939a676_405a_11ec_b70f_0242ac1c0002row14_col11,#T_e939a676_405a_11ec_b70f_0242ac1c0002row16_col11,#T_e939a676_405a_11ec_b70f_0242ac1c0002row17_col11{\n",
              "            background-color:  #3f4889;\n",
              "            color:  #f1f1f1;\n",
              "        }#T_e939a676_405a_11ec_b70f_0242ac1c0002row8_col17,#T_e939a676_405a_11ec_b70f_0242ac1c0002row12_col9,#T_e939a676_405a_11ec_b70f_0242ac1c0002row13_col9,#T_e939a676_405a_11ec_b70f_0242ac1c0002row14_col4,#T_e939a676_405a_11ec_b70f_0242ac1c0002row14_col9,#T_e939a676_405a_11ec_b70f_0242ac1c0002row17_col9{\n",
              "            background-color:  #472a7a;\n",
              "            color:  #f1f1f1;\n",
              "        }#T_e939a676_405a_11ec_b70f_0242ac1c0002row9_col3,#T_e939a676_405a_11ec_b70f_0242ac1c0002row13_col17,#T_e939a676_405a_11ec_b70f_0242ac1c0002row15_col9{\n",
              "            background-color:  #482979;\n",
              "            color:  #f1f1f1;\n",
              "        }#T_e939a676_405a_11ec_b70f_0242ac1c0002row9_col4{\n",
              "            background-color:  #423f85;\n",
              "            color:  #f1f1f1;\n",
              "        }#T_e939a676_405a_11ec_b70f_0242ac1c0002row9_col7{\n",
              "            background-color:  #3b518b;\n",
              "            color:  #f1f1f1;\n",
              "        }#T_e939a676_405a_11ec_b70f_0242ac1c0002row9_col10,#T_e939a676_405a_11ec_b70f_0242ac1c0002row10_col4{\n",
              "            background-color:  #433e85;\n",
              "            color:  #f1f1f1;\n",
              "        }#T_e939a676_405a_11ec_b70f_0242ac1c0002row9_col11{\n",
              "            background-color:  #34618d;\n",
              "            color:  #f1f1f1;\n",
              "        }#T_e939a676_405a_11ec_b70f_0242ac1c0002row10_col7,#T_e939a676_405a_11ec_b70f_0242ac1c0002row12_col15,#T_e939a676_405a_11ec_b70f_0242ac1c0002row13_col4{\n",
              "            background-color:  #3c508b;\n",
              "            color:  #f1f1f1;\n",
              "        }#T_e939a676_405a_11ec_b70f_0242ac1c0002row10_col8,#T_e939a676_405a_11ec_b70f_0242ac1c0002row13_col8,#T_e939a676_405a_11ec_b70f_0242ac1c0002row17_col0,#T_e939a676_405a_11ec_b70f_0242ac1c0002row17_col1,#T_e939a676_405a_11ec_b70f_0242ac1c0002row17_col2{\n",
              "            background-color:  #450457;\n",
              "            color:  #f1f1f1;\n",
              "        }#T_e939a676_405a_11ec_b70f_0242ac1c0002row10_col17{\n",
              "            background-color:  #33638d;\n",
              "            color:  #f1f1f1;\n",
              "        }#T_e939a676_405a_11ec_b70f_0242ac1c0002row12_col4,#T_e939a676_405a_11ec_b70f_0242ac1c0002row16_col17{\n",
              "            background-color:  #46307e;\n",
              "            color:  #f1f1f1;\n",
              "        }#T_e939a676_405a_11ec_b70f_0242ac1c0002row12_col13{\n",
              "            background-color:  #34608d;\n",
              "            color:  #f1f1f1;\n",
              "        }#T_e939a676_405a_11ec_b70f_0242ac1c0002row12_col14,#T_e939a676_405a_11ec_b70f_0242ac1c0002row15_col11{\n",
              "            background-color:  #424186;\n",
              "            color:  #f1f1f1;\n",
              "        }#T_e939a676_405a_11ec_b70f_0242ac1c0002row12_col16,#T_e939a676_405a_11ec_b70f_0242ac1c0002row14_col15,#T_e939a676_405a_11ec_b70f_0242ac1c0002row17_col5{\n",
              "            background-color:  #471365;\n",
              "            color:  #f1f1f1;\n",
              "        }#T_e939a676_405a_11ec_b70f_0242ac1c0002row13_col12{\n",
              "            background-color:  #2e6f8e;\n",
              "            color:  #f1f1f1;\n",
              "        }#T_e939a676_405a_11ec_b70f_0242ac1c0002row13_col14{\n",
              "            background-color:  #3a548c;\n",
              "            color:  #f1f1f1;\n",
              "        }#T_e939a676_405a_11ec_b70f_0242ac1c0002row13_col15,#T_e939a676_405a_11ec_b70f_0242ac1c0002row16_col15{\n",
              "            background-color:  #433d84;\n",
              "            color:  #f1f1f1;\n",
              "        }#T_e939a676_405a_11ec_b70f_0242ac1c0002row14_col3,#T_e939a676_405a_11ec_b70f_0242ac1c0002row17_col7{\n",
              "            background-color:  #3e4c8a;\n",
              "            color:  #f1f1f1;\n",
              "        }#T_e939a676_405a_11ec_b70f_0242ac1c0002row14_col5,#T_e939a676_405a_11ec_b70f_0242ac1c0002row15_col4{\n",
              "            background-color:  #471164;\n",
              "            color:  #f1f1f1;\n",
              "        }#T_e939a676_405a_11ec_b70f_0242ac1c0002row14_col8{\n",
              "            background-color:  #46075a;\n",
              "            color:  #f1f1f1;\n",
              "        }#T_e939a676_405a_11ec_b70f_0242ac1c0002row14_col16{\n",
              "            background-color:  #481b6d;\n",
              "            color:  #f1f1f1;\n",
              "        }#T_e939a676_405a_11ec_b70f_0242ac1c0002row15_col12{\n",
              "            background-color:  #3d4e8a;\n",
              "            color:  #f1f1f1;\n",
              "        }#T_e939a676_405a_11ec_b70f_0242ac1c0002row15_col13,#T_e939a676_405a_11ec_b70f_0242ac1c0002row15_col16,#T_e939a676_405a_11ec_b70f_0242ac1c0002row17_col16{\n",
              "            background-color:  #482475;\n",
              "            color:  #f1f1f1;\n",
              "        }#T_e939a676_405a_11ec_b70f_0242ac1c0002row15_col17{\n",
              "            background-color:  #3aba76;\n",
              "            color:  #000000;\n",
              "        }#T_e939a676_405a_11ec_b70f_0242ac1c0002row16_col10{\n",
              "            background-color:  #375a8c;\n",
              "            color:  #f1f1f1;\n",
              "        }#T_e939a676_405a_11ec_b70f_0242ac1c0002row17_col4{\n",
              "            background-color:  #482576;\n",
              "            color:  #f1f1f1;\n",
              "        }#T_e939a676_405a_11ec_b70f_0242ac1c0002row17_col10{\n",
              "            background-color:  #2c738e;\n",
              "            color:  #f1f1f1;\n",
              "        }#T_e939a676_405a_11ec_b70f_0242ac1c0002row17_col15{\n",
              "            background-color:  #40bd72;\n",
              "            color:  #000000;\n",
              "        }</style><table id=\"T_e939a676_405a_11ec_b70f_0242ac1c0002\" class=\"dataframe\"><thead>    <tr>        <th class=\"blank level0\" ></th>        <th class=\"col_heading level0 col0\" >level_0</th>        <th class=\"col_heading level0 col1\" >index</th>        <th class=\"col_heading level0 col2\" >Store</th>        <th class=\"col_heading level0 col3\" >DayOfWeek</th>        <th class=\"col_heading level0 col4\" >Sales</th>        <th class=\"col_heading level0 col5\" >Customers</th>        <th class=\"col_heading level0 col6\" >Open</th>        <th class=\"col_heading level0 col7\" >Promo</th>        <th class=\"col_heading level0 col8\" >StateHoliday</th>        <th class=\"col_heading level0 col9\" >SchoolHoliday</th>        <th class=\"col_heading level0 col10\" >Year</th>        <th class=\"col_heading level0 col11\" >Month</th>        <th class=\"col_heading level0 col12\" >StoreType</th>        <th class=\"col_heading level0 col13\" >Assortment</th>        <th class=\"col_heading level0 col14\" >CompetitionDistance</th>        <th class=\"col_heading level0 col15\" >Promo2</th>        <th class=\"col_heading level0 col16\" >day_diff_comp</th>        <th class=\"col_heading level0 col17\" >day_diff_promo</th>    </tr></thead><tbody>\n",
              "                <tr>\n",
              "                        <th id=\"T_e939a676_405a_11ec_b70f_0242ac1c0002level0_row0\" class=\"row_heading level0 row0\" >level_0</th>\n",
              "                        <td id=\"T_e939a676_405a_11ec_b70f_0242ac1c0002row0_col0\" class=\"data row0 col0\" >1.000000</td>\n",
              "                        <td id=\"T_e939a676_405a_11ec_b70f_0242ac1c0002row0_col1\" class=\"data row0 col1\" >1.000000</td>\n",
              "                        <td id=\"T_e939a676_405a_11ec_b70f_0242ac1c0002row0_col2\" class=\"data row0 col2\" >0.996765</td>\n",
              "                        <td id=\"T_e939a676_405a_11ec_b70f_0242ac1c0002row0_col3\" class=\"data row0 col3\" >0.000323</td>\n",
              "                        <td id=\"T_e939a676_405a_11ec_b70f_0242ac1c0002row0_col4\" class=\"data row0 col4\" >0.008475</td>\n",
              "                        <td id=\"T_e939a676_405a_11ec_b70f_0242ac1c0002row0_col5\" class=\"data row0 col5\" >0.035153</td>\n",
              "                        <td id=\"T_e939a676_405a_11ec_b70f_0242ac1c0002row0_col6\" class=\"data row0 col6\" >nan</td>\n",
              "                        <td id=\"T_e939a676_405a_11ec_b70f_0242ac1c0002row0_col7\" class=\"data row0 col7\" >-0.000003</td>\n",
              "                        <td id=\"T_e939a676_405a_11ec_b70f_0242ac1c0002row0_col8\" class=\"data row0 col8\" >0.002020</td>\n",
              "                        <td id=\"T_e939a676_405a_11ec_b70f_0242ac1c0002row0_col9\" class=\"data row0 col9\" >0.000545</td>\n",
              "                        <td id=\"T_e939a676_405a_11ec_b70f_0242ac1c0002row0_col10\" class=\"data row0 col10\" >-0.000582</td>\n",
              "                        <td id=\"T_e939a676_405a_11ec_b70f_0242ac1c0002row0_col11\" class=\"data row0 col11\" >0.001537</td>\n",
              "                        <td id=\"T_e939a676_405a_11ec_b70f_0242ac1c0002row0_col12\" class=\"data row0 col12\" >-0.023591</td>\n",
              "                        <td id=\"T_e939a676_405a_11ec_b70f_0242ac1c0002row0_col13\" class=\"data row0 col13\" >0.002671</td>\n",
              "                        <td id=\"T_e939a676_405a_11ec_b70f_0242ac1c0002row0_col14\" class=\"data row0 col14\" >-0.026941</td>\n",
              "                        <td id=\"T_e939a676_405a_11ec_b70f_0242ac1c0002row0_col15\" class=\"data row0 col15\" >0.004776</td>\n",
              "                        <td id=\"T_e939a676_405a_11ec_b70f_0242ac1c0002row0_col16\" class=\"data row0 col16\" >0.003200</td>\n",
              "                        <td id=\"T_e939a676_405a_11ec_b70f_0242ac1c0002row0_col17\" class=\"data row0 col17\" >-0.018210</td>\n",
              "            </tr>\n",
              "            <tr>\n",
              "                        <th id=\"T_e939a676_405a_11ec_b70f_0242ac1c0002level0_row1\" class=\"row_heading level0 row1\" >index</th>\n",
              "                        <td id=\"T_e939a676_405a_11ec_b70f_0242ac1c0002row1_col0\" class=\"data row1 col0\" >1.000000</td>\n",
              "                        <td id=\"T_e939a676_405a_11ec_b70f_0242ac1c0002row1_col1\" class=\"data row1 col1\" >1.000000</td>\n",
              "                        <td id=\"T_e939a676_405a_11ec_b70f_0242ac1c0002row1_col2\" class=\"data row1 col2\" >0.996765</td>\n",
              "                        <td id=\"T_e939a676_405a_11ec_b70f_0242ac1c0002row1_col3\" class=\"data row1 col3\" >0.000323</td>\n",
              "                        <td id=\"T_e939a676_405a_11ec_b70f_0242ac1c0002row1_col4\" class=\"data row1 col4\" >0.008475</td>\n",
              "                        <td id=\"T_e939a676_405a_11ec_b70f_0242ac1c0002row1_col5\" class=\"data row1 col5\" >0.035153</td>\n",
              "                        <td id=\"T_e939a676_405a_11ec_b70f_0242ac1c0002row1_col6\" class=\"data row1 col6\" >nan</td>\n",
              "                        <td id=\"T_e939a676_405a_11ec_b70f_0242ac1c0002row1_col7\" class=\"data row1 col7\" >-0.000003</td>\n",
              "                        <td id=\"T_e939a676_405a_11ec_b70f_0242ac1c0002row1_col8\" class=\"data row1 col8\" >0.002020</td>\n",
              "                        <td id=\"T_e939a676_405a_11ec_b70f_0242ac1c0002row1_col9\" class=\"data row1 col9\" >0.000545</td>\n",
              "                        <td id=\"T_e939a676_405a_11ec_b70f_0242ac1c0002row1_col10\" class=\"data row1 col10\" >-0.000582</td>\n",
              "                        <td id=\"T_e939a676_405a_11ec_b70f_0242ac1c0002row1_col11\" class=\"data row1 col11\" >0.001537</td>\n",
              "                        <td id=\"T_e939a676_405a_11ec_b70f_0242ac1c0002row1_col12\" class=\"data row1 col12\" >-0.023591</td>\n",
              "                        <td id=\"T_e939a676_405a_11ec_b70f_0242ac1c0002row1_col13\" class=\"data row1 col13\" >0.002671</td>\n",
              "                        <td id=\"T_e939a676_405a_11ec_b70f_0242ac1c0002row1_col14\" class=\"data row1 col14\" >-0.026941</td>\n",
              "                        <td id=\"T_e939a676_405a_11ec_b70f_0242ac1c0002row1_col15\" class=\"data row1 col15\" >0.004776</td>\n",
              "                        <td id=\"T_e939a676_405a_11ec_b70f_0242ac1c0002row1_col16\" class=\"data row1 col16\" >0.003200</td>\n",
              "                        <td id=\"T_e939a676_405a_11ec_b70f_0242ac1c0002row1_col17\" class=\"data row1 col17\" >-0.018210</td>\n",
              "            </tr>\n",
              "            <tr>\n",
              "                        <th id=\"T_e939a676_405a_11ec_b70f_0242ac1c0002level0_row2\" class=\"row_heading level0 row2\" >Store</th>\n",
              "                        <td id=\"T_e939a676_405a_11ec_b70f_0242ac1c0002row2_col0\" class=\"data row2 col0\" >0.996765</td>\n",
              "                        <td id=\"T_e939a676_405a_11ec_b70f_0242ac1c0002row2_col1\" class=\"data row2 col1\" >0.996765</td>\n",
              "                        <td id=\"T_e939a676_405a_11ec_b70f_0242ac1c0002row2_col2\" class=\"data row2 col2\" >1.000000</td>\n",
              "                        <td id=\"T_e939a676_405a_11ec_b70f_0242ac1c0002row2_col3\" class=\"data row2 col3\" >0.000342</td>\n",
              "                        <td id=\"T_e939a676_405a_11ec_b70f_0242ac1c0002row2_col4\" class=\"data row2 col4\" >0.008903</td>\n",
              "                        <td id=\"T_e939a676_405a_11ec_b70f_0242ac1c0002row2_col5\" class=\"data row2 col5\" >0.035094</td>\n",
              "                        <td id=\"T_e939a676_405a_11ec_b70f_0242ac1c0002row2_col6\" class=\"data row2 col6\" >nan</td>\n",
              "                        <td id=\"T_e939a676_405a_11ec_b70f_0242ac1c0002row2_col7\" class=\"data row2 col7\" >0.000003</td>\n",
              "                        <td id=\"T_e939a676_405a_11ec_b70f_0242ac1c0002row2_col8\" class=\"data row2 col8\" >0.002112</td>\n",
              "                        <td id=\"T_e939a676_405a_11ec_b70f_0242ac1c0002row2_col9\" class=\"data row2 col9\" >0.000564</td>\n",
              "                        <td id=\"T_e939a676_405a_11ec_b70f_0242ac1c0002row2_col10\" class=\"data row2 col10\" >0.000341</td>\n",
              "                        <td id=\"T_e939a676_405a_11ec_b70f_0242ac1c0002row2_col11\" class=\"data row2 col11\" >0.001549</td>\n",
              "                        <td id=\"T_e939a676_405a_11ec_b70f_0242ac1c0002row2_col12\" class=\"data row2 col12\" >-0.020995</td>\n",
              "                        <td id=\"T_e939a676_405a_11ec_b70f_0242ac1c0002row2_col13\" class=\"data row2 col13\" >0.005509</td>\n",
              "                        <td id=\"T_e939a676_405a_11ec_b70f_0242ac1c0002row2_col14\" class=\"data row2 col14\" >-0.027049</td>\n",
              "                        <td id=\"T_e939a676_405a_11ec_b70f_0242ac1c0002row2_col15\" class=\"data row2 col15\" >0.006430</td>\n",
              "                        <td id=\"T_e939a676_405a_11ec_b70f_0242ac1c0002row2_col16\" class=\"data row2 col16\" >0.002001</td>\n",
              "                        <td id=\"T_e939a676_405a_11ec_b70f_0242ac1c0002row2_col17\" class=\"data row2 col17\" >-0.015774</td>\n",
              "            </tr>\n",
              "            <tr>\n",
              "                        <th id=\"T_e939a676_405a_11ec_b70f_0242ac1c0002level0_row3\" class=\"row_heading level0 row3\" >DayOfWeek</th>\n",
              "                        <td id=\"T_e939a676_405a_11ec_b70f_0242ac1c0002row3_col0\" class=\"data row3 col0\" >0.000323</td>\n",
              "                        <td id=\"T_e939a676_405a_11ec_b70f_0242ac1c0002row3_col1\" class=\"data row3 col1\" >0.000323</td>\n",
              "                        <td id=\"T_e939a676_405a_11ec_b70f_0242ac1c0002row3_col2\" class=\"data row3 col2\" >0.000342</td>\n",
              "                        <td id=\"T_e939a676_405a_11ec_b70f_0242ac1c0002row3_col3\" class=\"data row3 col3\" >1.000000</td>\n",
              "                        <td id=\"T_e939a676_405a_11ec_b70f_0242ac1c0002row3_col4\" class=\"data row3 col4\" >-0.178561</td>\n",
              "                        <td id=\"T_e939a676_405a_11ec_b70f_0242ac1c0002row3_col5\" class=\"data row3 col5\" >-0.097067</td>\n",
              "                        <td id=\"T_e939a676_405a_11ec_b70f_0242ac1c0002row3_col6\" class=\"data row3 col6\" >nan</td>\n",
              "                        <td id=\"T_e939a676_405a_11ec_b70f_0242ac1c0002row3_col7\" class=\"data row3 col7\" >-0.289274</td>\n",
              "                        <td id=\"T_e939a676_405a_11ec_b70f_0242ac1c0002row3_col8\" class=\"data row3 col8\" >-0.002726</td>\n",
              "                        <td id=\"T_e939a676_405a_11ec_b70f_0242ac1c0002row3_col9\" class=\"data row3 col9\" >-0.139322</td>\n",
              "                        <td id=\"T_e939a676_405a_11ec_b70f_0242ac1c0002row3_col10\" class=\"data row3 col10\" >0.002101</td>\n",
              "                        <td id=\"T_e939a676_405a_11ec_b70f_0242ac1c0002row3_col11\" class=\"data row3 col11\" >-0.019726</td>\n",
              "                        <td id=\"T_e939a676_405a_11ec_b70f_0242ac1c0002row3_col12\" class=\"data row3 col12\" >-0.001971</td>\n",
              "                        <td id=\"T_e939a676_405a_11ec_b70f_0242ac1c0002row3_col13\" class=\"data row3 col13\" >0.001204</td>\n",
              "                        <td id=\"T_e939a676_405a_11ec_b70f_0242ac1c0002row3_col14\" class=\"data row3 col14\" >0.005535</td>\n",
              "                        <td id=\"T_e939a676_405a_11ec_b70f_0242ac1c0002row3_col15\" class=\"data row3 col15\" >-0.003264</td>\n",
              "                        <td id=\"T_e939a676_405a_11ec_b70f_0242ac1c0002row3_col16\" class=\"data row3 col16\" >-0.001967</td>\n",
              "                        <td id=\"T_e939a676_405a_11ec_b70f_0242ac1c0002row3_col17\" class=\"data row3 col17\" >-0.004797</td>\n",
              "            </tr>\n",
              "            <tr>\n",
              "                        <th id=\"T_e939a676_405a_11ec_b70f_0242ac1c0002level0_row4\" class=\"row_heading level0 row4\" >Sales</th>\n",
              "                        <td id=\"T_e939a676_405a_11ec_b70f_0242ac1c0002row4_col0\" class=\"data row4 col0\" >0.008475</td>\n",
              "                        <td id=\"T_e939a676_405a_11ec_b70f_0242ac1c0002row4_col1\" class=\"data row4 col1\" >0.008475</td>\n",
              "                        <td id=\"T_e939a676_405a_11ec_b70f_0242ac1c0002row4_col2\" class=\"data row4 col2\" >0.008903</td>\n",
              "                        <td id=\"T_e939a676_405a_11ec_b70f_0242ac1c0002row4_col3\" class=\"data row4 col3\" >-0.178561</td>\n",
              "                        <td id=\"T_e939a676_405a_11ec_b70f_0242ac1c0002row4_col4\" class=\"data row4 col4\" >1.000000</td>\n",
              "                        <td id=\"T_e939a676_405a_11ec_b70f_0242ac1c0002row4_col5\" class=\"data row4 col5\" >0.823311</td>\n",
              "                        <td id=\"T_e939a676_405a_11ec_b70f_0242ac1c0002row4_col6\" class=\"data row4 col6\" >nan</td>\n",
              "                        <td id=\"T_e939a676_405a_11ec_b70f_0242ac1c0002row4_col7\" class=\"data row4 col7\" >0.368126</td>\n",
              "                        <td id=\"T_e939a676_405a_11ec_b70f_0242ac1c0002row4_col8\" class=\"data row4 col8\" >0.020056</td>\n",
              "                        <td id=\"T_e939a676_405a_11ec_b70f_0242ac1c0002row4_col9\" class=\"data row4 col9\" >0.038535</td>\n",
              "                        <td id=\"T_e939a676_405a_11ec_b70f_0242ac1c0002row4_col10\" class=\"data row4 col10\" >0.036201</td>\n",
              "                        <td id=\"T_e939a676_405a_11ec_b70f_0242ac1c0002row4_col11\" class=\"data row4 col11\" >0.073393</td>\n",
              "                        <td id=\"T_e939a676_405a_11ec_b70f_0242ac1c0002row4_col12\" class=\"data row4 col12\" >-0.016327</td>\n",
              "                        <td id=\"T_e939a676_405a_11ec_b70f_0242ac1c0002row4_col13\" class=\"data row4 col13\" >0.109732</td>\n",
              "                        <td id=\"T_e939a676_405a_11ec_b70f_0242ac1c0002row4_col14\" class=\"data row4 col14\" >-0.036396</td>\n",
              "                        <td id=\"T_e939a676_405a_11ec_b70f_0242ac1c0002row4_col15\" class=\"data row4 col15\" >-0.127628</td>\n",
              "                        <td id=\"T_e939a676_405a_11ec_b70f_0242ac1c0002row4_col16\" class=\"data row4 col16\" >-0.004366</td>\n",
              "                        <td id=\"T_e939a676_405a_11ec_b70f_0242ac1c0002row4_col17\" class=\"data row4 col17\" >-0.057057</td>\n",
              "            </tr>\n",
              "            <tr>\n",
              "                        <th id=\"T_e939a676_405a_11ec_b70f_0242ac1c0002level0_row5\" class=\"row_heading level0 row5\" >Customers</th>\n",
              "                        <td id=\"T_e939a676_405a_11ec_b70f_0242ac1c0002row5_col0\" class=\"data row5 col0\" >0.035153</td>\n",
              "                        <td id=\"T_e939a676_405a_11ec_b70f_0242ac1c0002row5_col1\" class=\"data row5 col1\" >0.035153</td>\n",
              "                        <td id=\"T_e939a676_405a_11ec_b70f_0242ac1c0002row5_col2\" class=\"data row5 col2\" >0.035094</td>\n",
              "                        <td id=\"T_e939a676_405a_11ec_b70f_0242ac1c0002row5_col3\" class=\"data row5 col3\" >-0.097067</td>\n",
              "                        <td id=\"T_e939a676_405a_11ec_b70f_0242ac1c0002row5_col4\" class=\"data row5 col4\" >0.823311</td>\n",
              "                        <td id=\"T_e939a676_405a_11ec_b70f_0242ac1c0002row5_col5\" class=\"data row5 col5\" >1.000000</td>\n",
              "                        <td id=\"T_e939a676_405a_11ec_b70f_0242ac1c0002row5_col6\" class=\"data row5 col6\" >nan</td>\n",
              "                        <td id=\"T_e939a676_405a_11ec_b70f_0242ac1c0002row5_col7\" class=\"data row5 col7\" >0.182724</td>\n",
              "                        <td id=\"T_e939a676_405a_11ec_b70f_0242ac1c0002row5_col8\" class=\"data row5 col8\" >0.049530</td>\n",
              "                        <td id=\"T_e939a676_405a_11ec_b70f_0242ac1c0002row5_col9\" class=\"data row5 col9\" >0.024810</td>\n",
              "                        <td id=\"T_e939a676_405a_11ec_b70f_0242ac1c0002row5_col10\" class=\"data row5 col10\" >-0.000819</td>\n",
              "                        <td id=\"T_e939a676_405a_11ec_b70f_0242ac1c0002row5_col11\" class=\"data row5 col11\" >0.053708</td>\n",
              "                        <td id=\"T_e939a676_405a_11ec_b70f_0242ac1c0002row5_col12\" class=\"data row5 col12\" >-0.195062</td>\n",
              "                        <td id=\"T_e939a676_405a_11ec_b70f_0242ac1c0002row5_col13\" class=\"data row5 col13\" >0.007561</td>\n",
              "                        <td id=\"T_e939a676_405a_11ec_b70f_0242ac1c0002row5_col14\" class=\"data row5 col14\" >-0.148506</td>\n",
              "                        <td id=\"T_e939a676_405a_11ec_b70f_0242ac1c0002row5_col15\" class=\"data row5 col15\" >-0.202503</td>\n",
              "                        <td id=\"T_e939a676_405a_11ec_b70f_0242ac1c0002row5_col16\" class=\"data row5 col16\" >-0.005188</td>\n",
              "                        <td id=\"T_e939a676_405a_11ec_b70f_0242ac1c0002row5_col17\" class=\"data row5 col17\" >-0.145279</td>\n",
              "            </tr>\n",
              "            <tr>\n",
              "                        <th id=\"T_e939a676_405a_11ec_b70f_0242ac1c0002level0_row6\" class=\"row_heading level0 row6\" >Open</th>\n",
              "                        <td id=\"T_e939a676_405a_11ec_b70f_0242ac1c0002row6_col0\" class=\"data row6 col0\" >nan</td>\n",
              "                        <td id=\"T_e939a676_405a_11ec_b70f_0242ac1c0002row6_col1\" class=\"data row6 col1\" >nan</td>\n",
              "                        <td id=\"T_e939a676_405a_11ec_b70f_0242ac1c0002row6_col2\" class=\"data row6 col2\" >nan</td>\n",
              "                        <td id=\"T_e939a676_405a_11ec_b70f_0242ac1c0002row6_col3\" class=\"data row6 col3\" >nan</td>\n",
              "                        <td id=\"T_e939a676_405a_11ec_b70f_0242ac1c0002row6_col4\" class=\"data row6 col4\" >nan</td>\n",
              "                        <td id=\"T_e939a676_405a_11ec_b70f_0242ac1c0002row6_col5\" class=\"data row6 col5\" >nan</td>\n",
              "                        <td id=\"T_e939a676_405a_11ec_b70f_0242ac1c0002row6_col6\" class=\"data row6 col6\" >nan</td>\n",
              "                        <td id=\"T_e939a676_405a_11ec_b70f_0242ac1c0002row6_col7\" class=\"data row6 col7\" >nan</td>\n",
              "                        <td id=\"T_e939a676_405a_11ec_b70f_0242ac1c0002row6_col8\" class=\"data row6 col8\" >nan</td>\n",
              "                        <td id=\"T_e939a676_405a_11ec_b70f_0242ac1c0002row6_col9\" class=\"data row6 col9\" >nan</td>\n",
              "                        <td id=\"T_e939a676_405a_11ec_b70f_0242ac1c0002row6_col10\" class=\"data row6 col10\" >nan</td>\n",
              "                        <td id=\"T_e939a676_405a_11ec_b70f_0242ac1c0002row6_col11\" class=\"data row6 col11\" >nan</td>\n",
              "                        <td id=\"T_e939a676_405a_11ec_b70f_0242ac1c0002row6_col12\" class=\"data row6 col12\" >nan</td>\n",
              "                        <td id=\"T_e939a676_405a_11ec_b70f_0242ac1c0002row6_col13\" class=\"data row6 col13\" >nan</td>\n",
              "                        <td id=\"T_e939a676_405a_11ec_b70f_0242ac1c0002row6_col14\" class=\"data row6 col14\" >nan</td>\n",
              "                        <td id=\"T_e939a676_405a_11ec_b70f_0242ac1c0002row6_col15\" class=\"data row6 col15\" >nan</td>\n",
              "                        <td id=\"T_e939a676_405a_11ec_b70f_0242ac1c0002row6_col16\" class=\"data row6 col16\" >nan</td>\n",
              "                        <td id=\"T_e939a676_405a_11ec_b70f_0242ac1c0002row6_col17\" class=\"data row6 col17\" >nan</td>\n",
              "            </tr>\n",
              "            <tr>\n",
              "                        <th id=\"T_e939a676_405a_11ec_b70f_0242ac1c0002level0_row7\" class=\"row_heading level0 row7\" >Promo</th>\n",
              "                        <td id=\"T_e939a676_405a_11ec_b70f_0242ac1c0002row7_col0\" class=\"data row7 col0\" >-0.000003</td>\n",
              "                        <td id=\"T_e939a676_405a_11ec_b70f_0242ac1c0002row7_col1\" class=\"data row7 col1\" >-0.000003</td>\n",
              "                        <td id=\"T_e939a676_405a_11ec_b70f_0242ac1c0002row7_col2\" class=\"data row7 col2\" >0.000003</td>\n",
              "                        <td id=\"T_e939a676_405a_11ec_b70f_0242ac1c0002row7_col3\" class=\"data row7 col3\" >-0.289274</td>\n",
              "                        <td id=\"T_e939a676_405a_11ec_b70f_0242ac1c0002row7_col4\" class=\"data row7 col4\" >0.368126</td>\n",
              "                        <td id=\"T_e939a676_405a_11ec_b70f_0242ac1c0002row7_col5\" class=\"data row7 col5\" >0.182724</td>\n",
              "                        <td id=\"T_e939a676_405a_11ec_b70f_0242ac1c0002row7_col6\" class=\"data row7 col6\" >nan</td>\n",
              "                        <td id=\"T_e939a676_405a_11ec_b70f_0242ac1c0002row7_col7\" class=\"data row7 col7\" >1.000000</td>\n",
              "                        <td id=\"T_e939a676_405a_11ec_b70f_0242ac1c0002row7_col8\" class=\"data row7 col8\" >-0.002506</td>\n",
              "                        <td id=\"T_e939a676_405a_11ec_b70f_0242ac1c0002row7_col9\" class=\"data row7 col9\" >0.029012</td>\n",
              "                        <td id=\"T_e939a676_405a_11ec_b70f_0242ac1c0002row7_col10\" class=\"data row7 col10\" >0.023991</td>\n",
              "                        <td id=\"T_e939a676_405a_11ec_b70f_0242ac1c0002row7_col11\" class=\"data row7 col11\" >-0.006400</td>\n",
              "                        <td id=\"T_e939a676_405a_11ec_b70f_0242ac1c0002row7_col12\" class=\"data row7 col12\" >0.000342</td>\n",
              "                        <td id=\"T_e939a676_405a_11ec_b70f_0242ac1c0002row7_col13\" class=\"data row7 col13\" >-0.000336</td>\n",
              "                        <td id=\"T_e939a676_405a_11ec_b70f_0242ac1c0002row7_col14\" class=\"data row7 col14\" >-0.002393</td>\n",
              "                        <td id=\"T_e939a676_405a_11ec_b70f_0242ac1c0002row7_col15\" class=\"data row7 col15\" >-0.000300</td>\n",
              "                        <td id=\"T_e939a676_405a_11ec_b70f_0242ac1c0002row7_col16\" class=\"data row7 col16\" >0.002284</td>\n",
              "                        <td id=\"T_e939a676_405a_11ec_b70f_0242ac1c0002row7_col17\" class=\"data row7 col17\" >0.005178</td>\n",
              "            </tr>\n",
              "            <tr>\n",
              "                        <th id=\"T_e939a676_405a_11ec_b70f_0242ac1c0002level0_row8\" class=\"row_heading level0 row8\" >StateHoliday</th>\n",
              "                        <td id=\"T_e939a676_405a_11ec_b70f_0242ac1c0002row8_col0\" class=\"data row8 col0\" >0.002020</td>\n",
              "                        <td id=\"T_e939a676_405a_11ec_b70f_0242ac1c0002row8_col1\" class=\"data row8 col1\" >0.002020</td>\n",
              "                        <td id=\"T_e939a676_405a_11ec_b70f_0242ac1c0002row8_col2\" class=\"data row8 col2\" >0.002112</td>\n",
              "                        <td id=\"T_e939a676_405a_11ec_b70f_0242ac1c0002row8_col3\" class=\"data row8 col3\" >-0.002726</td>\n",
              "                        <td id=\"T_e939a676_405a_11ec_b70f_0242ac1c0002row8_col4\" class=\"data row8 col4\" >0.020056</td>\n",
              "                        <td id=\"T_e939a676_405a_11ec_b70f_0242ac1c0002row8_col5\" class=\"data row8 col5\" >0.049530</td>\n",
              "                        <td id=\"T_e939a676_405a_11ec_b70f_0242ac1c0002row8_col6\" class=\"data row8 col6\" >nan</td>\n",
              "                        <td id=\"T_e939a676_405a_11ec_b70f_0242ac1c0002row8_col7\" class=\"data row8 col7\" >-0.002506</td>\n",
              "                        <td id=\"T_e939a676_405a_11ec_b70f_0242ac1c0002row8_col8\" class=\"data row8 col8\" >1.000000</td>\n",
              "                        <td id=\"T_e939a676_405a_11ec_b70f_0242ac1c0002row8_col9\" class=\"data row8 col9\" >0.022970</td>\n",
              "                        <td id=\"T_e939a676_405a_11ec_b70f_0242ac1c0002row8_col10\" class=\"data row8 col10\" >0.000919</td>\n",
              "                        <td id=\"T_e939a676_405a_11ec_b70f_0242ac1c0002row8_col11\" class=\"data row8 col11\" >0.005289</td>\n",
              "                        <td id=\"T_e939a676_405a_11ec_b70f_0242ac1c0002row8_col12\" class=\"data row8 col12\" >-0.004504</td>\n",
              "                        <td id=\"T_e939a676_405a_11ec_b70f_0242ac1c0002row8_col13\" class=\"data row8 col13\" >-0.000573</td>\n",
              "                        <td id=\"T_e939a676_405a_11ec_b70f_0242ac1c0002row8_col14\" class=\"data row8 col14\" >0.007097</td>\n",
              "                        <td id=\"T_e939a676_405a_11ec_b70f_0242ac1c0002row8_col15\" class=\"data row8 col15\" >-0.010132</td>\n",
              "                        <td id=\"T_e939a676_405a_11ec_b70f_0242ac1c0002row8_col16\" class=\"data row8 col16\" >-0.002327</td>\n",
              "                        <td id=\"T_e939a676_405a_11ec_b70f_0242ac1c0002row8_col17\" class=\"data row8 col17\" >-0.009217</td>\n",
              "            </tr>\n",
              "            <tr>\n",
              "                        <th id=\"T_e939a676_405a_11ec_b70f_0242ac1c0002level0_row9\" class=\"row_heading level0 row9\" >SchoolHoliday</th>\n",
              "                        <td id=\"T_e939a676_405a_11ec_b70f_0242ac1c0002row9_col0\" class=\"data row9 col0\" >0.000545</td>\n",
              "                        <td id=\"T_e939a676_405a_11ec_b70f_0242ac1c0002row9_col1\" class=\"data row9 col1\" >0.000545</td>\n",
              "                        <td id=\"T_e939a676_405a_11ec_b70f_0242ac1c0002row9_col2\" class=\"data row9 col2\" >0.000564</td>\n",
              "                        <td id=\"T_e939a676_405a_11ec_b70f_0242ac1c0002row9_col3\" class=\"data row9 col3\" >-0.139322</td>\n",
              "                        <td id=\"T_e939a676_405a_11ec_b70f_0242ac1c0002row9_col4\" class=\"data row9 col4\" >0.038535</td>\n",
              "                        <td id=\"T_e939a676_405a_11ec_b70f_0242ac1c0002row9_col5\" class=\"data row9 col5\" >0.024810</td>\n",
              "                        <td id=\"T_e939a676_405a_11ec_b70f_0242ac1c0002row9_col6\" class=\"data row9 col6\" >nan</td>\n",
              "                        <td id=\"T_e939a676_405a_11ec_b70f_0242ac1c0002row9_col7\" class=\"data row9 col7\" >0.029012</td>\n",
              "                        <td id=\"T_e939a676_405a_11ec_b70f_0242ac1c0002row9_col8\" class=\"data row9 col8\" >0.022970</td>\n",
              "                        <td id=\"T_e939a676_405a_11ec_b70f_0242ac1c0002row9_col9\" class=\"data row9 col9\" >1.000000</td>\n",
              "                        <td id=\"T_e939a676_405a_11ec_b70f_0242ac1c0002row9_col10\" class=\"data row9 col10\" >-0.038651</td>\n",
              "                        <td id=\"T_e939a676_405a_11ec_b70f_0242ac1c0002row9_col11\" class=\"data row9 col11\" >0.118533</td>\n",
              "                        <td id=\"T_e939a676_405a_11ec_b70f_0242ac1c0002row9_col12\" class=\"data row9 col12\" >-0.002269</td>\n",
              "                        <td id=\"T_e939a676_405a_11ec_b70f_0242ac1c0002row9_col13\" class=\"data row9 col13\" >-0.002731</td>\n",
              "                        <td id=\"T_e939a676_405a_11ec_b70f_0242ac1c0002row9_col14\" class=\"data row9 col14\" >-0.004280</td>\n",
              "                        <td id=\"T_e939a676_405a_11ec_b70f_0242ac1c0002row9_col15\" class=\"data row9 col15\" >-0.008238</td>\n",
              "                        <td id=\"T_e939a676_405a_11ec_b70f_0242ac1c0002row9_col16\" class=\"data row9 col16\" >-0.000125</td>\n",
              "                        <td id=\"T_e939a676_405a_11ec_b70f_0242ac1c0002row9_col17\" class=\"data row9 col17\" >-0.003078</td>\n",
              "            </tr>\n",
              "            <tr>\n",
              "                        <th id=\"T_e939a676_405a_11ec_b70f_0242ac1c0002level0_row10\" class=\"row_heading level0 row10\" >Year</th>\n",
              "                        <td id=\"T_e939a676_405a_11ec_b70f_0242ac1c0002row10_col0\" class=\"data row10 col0\" >-0.000582</td>\n",
              "                        <td id=\"T_e939a676_405a_11ec_b70f_0242ac1c0002row10_col1\" class=\"data row10 col1\" >-0.000582</td>\n",
              "                        <td id=\"T_e939a676_405a_11ec_b70f_0242ac1c0002row10_col2\" class=\"data row10 col2\" >0.000341</td>\n",
              "                        <td id=\"T_e939a676_405a_11ec_b70f_0242ac1c0002row10_col3\" class=\"data row10 col3\" >0.002101</td>\n",
              "                        <td id=\"T_e939a676_405a_11ec_b70f_0242ac1c0002row10_col4\" class=\"data row10 col4\" >0.036201</td>\n",
              "                        <td id=\"T_e939a676_405a_11ec_b70f_0242ac1c0002row10_col5\" class=\"data row10 col5\" >-0.000819</td>\n",
              "                        <td id=\"T_e939a676_405a_11ec_b70f_0242ac1c0002row10_col6\" class=\"data row10 col6\" >nan</td>\n",
              "                        <td id=\"T_e939a676_405a_11ec_b70f_0242ac1c0002row10_col7\" class=\"data row10 col7\" >0.023991</td>\n",
              "                        <td id=\"T_e939a676_405a_11ec_b70f_0242ac1c0002row10_col8\" class=\"data row10 col8\" >0.000919</td>\n",
              "                        <td id=\"T_e939a676_405a_11ec_b70f_0242ac1c0002row10_col9\" class=\"data row10 col9\" >-0.038651</td>\n",
              "                        <td id=\"T_e939a676_405a_11ec_b70f_0242ac1c0002row10_col10\" class=\"data row10 col10\" >1.000000</td>\n",
              "                        <td id=\"T_e939a676_405a_11ec_b70f_0242ac1c0002row10_col11\" class=\"data row10 col11\" >-0.268783</td>\n",
              "                        <td id=\"T_e939a676_405a_11ec_b70f_0242ac1c0002row10_col12\" class=\"data row10 col12\" >-0.001446</td>\n",
              "                        <td id=\"T_e939a676_405a_11ec_b70f_0242ac1c0002row10_col13\" class=\"data row10 col13\" >0.001986</td>\n",
              "                        <td id=\"T_e939a676_405a_11ec_b70f_0242ac1c0002row10_col14\" class=\"data row10 col14\" >0.000626</td>\n",
              "                        <td id=\"T_e939a676_405a_11ec_b70f_0242ac1c0002row10_col15\" class=\"data row10 col15\" >-0.005669</td>\n",
              "                        <td id=\"T_e939a676_405a_11ec_b70f_0242ac1c0002row10_col16\" class=\"data row10 col16\" >0.086540</td>\n",
              "                        <td id=\"T_e939a676_405a_11ec_b70f_0242ac1c0002row10_col17\" class=\"data row10 col17\" >0.216679</td>\n",
              "            </tr>\n",
              "            <tr>\n",
              "                        <th id=\"T_e939a676_405a_11ec_b70f_0242ac1c0002level0_row11\" class=\"row_heading level0 row11\" >Month</th>\n",
              "                        <td id=\"T_e939a676_405a_11ec_b70f_0242ac1c0002row11_col0\" class=\"data row11 col0\" >0.001537</td>\n",
              "                        <td id=\"T_e939a676_405a_11ec_b70f_0242ac1c0002row11_col1\" class=\"data row11 col1\" >0.001537</td>\n",
              "                        <td id=\"T_e939a676_405a_11ec_b70f_0242ac1c0002row11_col2\" class=\"data row11 col2\" >0.001549</td>\n",
              "                        <td id=\"T_e939a676_405a_11ec_b70f_0242ac1c0002row11_col3\" class=\"data row11 col3\" >-0.019726</td>\n",
              "                        <td id=\"T_e939a676_405a_11ec_b70f_0242ac1c0002row11_col4\" class=\"data row11 col4\" >0.073393</td>\n",
              "                        <td id=\"T_e939a676_405a_11ec_b70f_0242ac1c0002row11_col5\" class=\"data row11 col5\" >0.053708</td>\n",
              "                        <td id=\"T_e939a676_405a_11ec_b70f_0242ac1c0002row11_col6\" class=\"data row11 col6\" >nan</td>\n",
              "                        <td id=\"T_e939a676_405a_11ec_b70f_0242ac1c0002row11_col7\" class=\"data row11 col7\" >-0.006400</td>\n",
              "                        <td id=\"T_e939a676_405a_11ec_b70f_0242ac1c0002row11_col8\" class=\"data row11 col8\" >0.005289</td>\n",
              "                        <td id=\"T_e939a676_405a_11ec_b70f_0242ac1c0002row11_col9\" class=\"data row11 col9\" >0.118533</td>\n",
              "                        <td id=\"T_e939a676_405a_11ec_b70f_0242ac1c0002row11_col10\" class=\"data row11 col10\" >-0.268783</td>\n",
              "                        <td id=\"T_e939a676_405a_11ec_b70f_0242ac1c0002row11_col11\" class=\"data row11 col11\" >1.000000</td>\n",
              "                        <td id=\"T_e939a676_405a_11ec_b70f_0242ac1c0002row11_col12\" class=\"data row11 col12\" >-0.007453</td>\n",
              "                        <td id=\"T_e939a676_405a_11ec_b70f_0242ac1c0002row11_col13\" class=\"data row11 col13\" >0.008203</td>\n",
              "                        <td id=\"T_e939a676_405a_11ec_b70f_0242ac1c0002row11_col14\" class=\"data row11 col14\" >0.003851</td>\n",
              "                        <td id=\"T_e939a676_405a_11ec_b70f_0242ac1c0002row11_col15\" class=\"data row11 col15\" >-0.025657</td>\n",
              "                        <td id=\"T_e939a676_405a_11ec_b70f_0242ac1c0002row11_col16\" class=\"data row11 col16\" >0.004832</td>\n",
              "                        <td id=\"T_e939a676_405a_11ec_b70f_0242ac1c0002row11_col17\" class=\"data row11 col17\" >0.006681</td>\n",
              "            </tr>\n",
              "            <tr>\n",
              "                        <th id=\"T_e939a676_405a_11ec_b70f_0242ac1c0002level0_row12\" class=\"row_heading level0 row12\" >StoreType</th>\n",
              "                        <td id=\"T_e939a676_405a_11ec_b70f_0242ac1c0002row12_col0\" class=\"data row12 col0\" >-0.023591</td>\n",
              "                        <td id=\"T_e939a676_405a_11ec_b70f_0242ac1c0002row12_col1\" class=\"data row12 col1\" >-0.023591</td>\n",
              "                        <td id=\"T_e939a676_405a_11ec_b70f_0242ac1c0002row12_col2\" class=\"data row12 col2\" >-0.020995</td>\n",
              "                        <td id=\"T_e939a676_405a_11ec_b70f_0242ac1c0002row12_col3\" class=\"data row12 col3\" >-0.001971</td>\n",
              "                        <td id=\"T_e939a676_405a_11ec_b70f_0242ac1c0002row12_col4\" class=\"data row12 col4\" >-0.016327</td>\n",
              "                        <td id=\"T_e939a676_405a_11ec_b70f_0242ac1c0002row12_col5\" class=\"data row12 col5\" >-0.195062</td>\n",
              "                        <td id=\"T_e939a676_405a_11ec_b70f_0242ac1c0002row12_col6\" class=\"data row12 col6\" >nan</td>\n",
              "                        <td id=\"T_e939a676_405a_11ec_b70f_0242ac1c0002row12_col7\" class=\"data row12 col7\" >0.000342</td>\n",
              "                        <td id=\"T_e939a676_405a_11ec_b70f_0242ac1c0002row12_col8\" class=\"data row12 col8\" >-0.004504</td>\n",
              "                        <td id=\"T_e939a676_405a_11ec_b70f_0242ac1c0002row12_col9\" class=\"data row12 col9\" >-0.002269</td>\n",
              "                        <td id=\"T_e939a676_405a_11ec_b70f_0242ac1c0002row12_col10\" class=\"data row12 col10\" >-0.001446</td>\n",
              "                        <td id=\"T_e939a676_405a_11ec_b70f_0242ac1c0002row12_col11\" class=\"data row12 col11\" >-0.007453</td>\n",
              "                        <td id=\"T_e939a676_405a_11ec_b70f_0242ac1c0002row12_col12\" class=\"data row12 col12\" >1.000000</td>\n",
              "                        <td id=\"T_e939a676_405a_11ec_b70f_0242ac1c0002row12_col13\" class=\"data row12 col13\" >0.234498</td>\n",
              "                        <td id=\"T_e939a676_405a_11ec_b70f_0242ac1c0002row12_col14\" class=\"data row12 col14\" >0.074911</td>\n",
              "                        <td id=\"T_e939a676_405a_11ec_b70f_0242ac1c0002row12_col15\" class=\"data row12 col15\" >0.089032</td>\n",
              "                        <td id=\"T_e939a676_405a_11ec_b70f_0242ac1c0002row12_col16\" class=\"data row12 col16\" >-0.046379</td>\n",
              "                        <td id=\"T_e939a676_405a_11ec_b70f_0242ac1c0002row12_col17\" class=\"data row12 col17\" >0.092756</td>\n",
              "            </tr>\n",
              "            <tr>\n",
              "                        <th id=\"T_e939a676_405a_11ec_b70f_0242ac1c0002level0_row13\" class=\"row_heading level0 row13\" >Assortment</th>\n",
              "                        <td id=\"T_e939a676_405a_11ec_b70f_0242ac1c0002row13_col0\" class=\"data row13 col0\" >0.002671</td>\n",
              "                        <td id=\"T_e939a676_405a_11ec_b70f_0242ac1c0002row13_col1\" class=\"data row13 col1\" >0.002671</td>\n",
              "                        <td id=\"T_e939a676_405a_11ec_b70f_0242ac1c0002row13_col2\" class=\"data row13 col2\" >0.005509</td>\n",
              "                        <td id=\"T_e939a676_405a_11ec_b70f_0242ac1c0002row13_col3\" class=\"data row13 col3\" >0.001204</td>\n",
              "                        <td id=\"T_e939a676_405a_11ec_b70f_0242ac1c0002row13_col4\" class=\"data row13 col4\" >0.109732</td>\n",
              "                        <td id=\"T_e939a676_405a_11ec_b70f_0242ac1c0002row13_col5\" class=\"data row13 col5\" >0.007561</td>\n",
              "                        <td id=\"T_e939a676_405a_11ec_b70f_0242ac1c0002row13_col6\" class=\"data row13 col6\" >nan</td>\n",
              "                        <td id=\"T_e939a676_405a_11ec_b70f_0242ac1c0002row13_col7\" class=\"data row13 col7\" >-0.000336</td>\n",
              "                        <td id=\"T_e939a676_405a_11ec_b70f_0242ac1c0002row13_col8\" class=\"data row13 col8\" >-0.000573</td>\n",
              "                        <td id=\"T_e939a676_405a_11ec_b70f_0242ac1c0002row13_col9\" class=\"data row13 col9\" >-0.002731</td>\n",
              "                        <td id=\"T_e939a676_405a_11ec_b70f_0242ac1c0002row13_col10\" class=\"data row13 col10\" >0.001986</td>\n",
              "                        <td id=\"T_e939a676_405a_11ec_b70f_0242ac1c0002row13_col11\" class=\"data row13 col11\" >0.008203</td>\n",
              "                        <td id=\"T_e939a676_405a_11ec_b70f_0242ac1c0002row13_col12\" class=\"data row13 col12\" >0.234498</td>\n",
              "                        <td id=\"T_e939a676_405a_11ec_b70f_0242ac1c0002row13_col13\" class=\"data row13 col13\" >1.000000</td>\n",
              "                        <td id=\"T_e939a676_405a_11ec_b70f_0242ac1c0002row13_col14\" class=\"data row13 col14\" >0.150118</td>\n",
              "                        <td id=\"T_e939a676_405a_11ec_b70f_0242ac1c0002row13_col15\" class=\"data row13 col15\" >0.009308</td>\n",
              "                        <td id=\"T_e939a676_405a_11ec_b70f_0242ac1c0002row13_col16\" class=\"data row13 col16\" >-0.098058</td>\n",
              "                        <td id=\"T_e939a676_405a_11ec_b70f_0242ac1c0002row13_col17\" class=\"data row13 col17\" >-0.014805</td>\n",
              "            </tr>\n",
              "            <tr>\n",
              "                        <th id=\"T_e939a676_405a_11ec_b70f_0242ac1c0002level0_row14\" class=\"row_heading level0 row14\" >CompetitionDistance</th>\n",
              "                        <td id=\"T_e939a676_405a_11ec_b70f_0242ac1c0002row14_col0\" class=\"data row14 col0\" >-0.026941</td>\n",
              "                        <td id=\"T_e939a676_405a_11ec_b70f_0242ac1c0002row14_col1\" class=\"data row14 col1\" >-0.026941</td>\n",
              "                        <td id=\"T_e939a676_405a_11ec_b70f_0242ac1c0002row14_col2\" class=\"data row14 col2\" >-0.027049</td>\n",
              "                        <td id=\"T_e939a676_405a_11ec_b70f_0242ac1c0002row14_col3\" class=\"data row14 col3\" >0.005535</td>\n",
              "                        <td id=\"T_e939a676_405a_11ec_b70f_0242ac1c0002row14_col4\" class=\"data row14 col4\" >-0.036396</td>\n",
              "                        <td id=\"T_e939a676_405a_11ec_b70f_0242ac1c0002row14_col5\" class=\"data row14 col5\" >-0.148506</td>\n",
              "                        <td id=\"T_e939a676_405a_11ec_b70f_0242ac1c0002row14_col6\" class=\"data row14 col6\" >nan</td>\n",
              "                        <td id=\"T_e939a676_405a_11ec_b70f_0242ac1c0002row14_col7\" class=\"data row14 col7\" >-0.002393</td>\n",
              "                        <td id=\"T_e939a676_405a_11ec_b70f_0242ac1c0002row14_col8\" class=\"data row14 col8\" >0.007097</td>\n",
              "                        <td id=\"T_e939a676_405a_11ec_b70f_0242ac1c0002row14_col9\" class=\"data row14 col9\" >-0.004280</td>\n",
              "                        <td id=\"T_e939a676_405a_11ec_b70f_0242ac1c0002row14_col10\" class=\"data row14 col10\" >0.000626</td>\n",
              "                        <td id=\"T_e939a676_405a_11ec_b70f_0242ac1c0002row14_col11\" class=\"data row14 col11\" >0.003851</td>\n",
              "                        <td id=\"T_e939a676_405a_11ec_b70f_0242ac1c0002row14_col12\" class=\"data row14 col12\" >0.074911</td>\n",
              "                        <td id=\"T_e939a676_405a_11ec_b70f_0242ac1c0002row14_col13\" class=\"data row14 col13\" >0.150118</td>\n",
              "                        <td id=\"T_e939a676_405a_11ec_b70f_0242ac1c0002row14_col14\" class=\"data row14 col14\" >1.000000</td>\n",
              "                        <td id=\"T_e939a676_405a_11ec_b70f_0242ac1c0002row14_col15\" class=\"data row14 col15\" >-0.141975</td>\n",
              "                        <td id=\"T_e939a676_405a_11ec_b70f_0242ac1c0002row14_col16\" class=\"data row14 col16\" >-0.020094</td>\n",
              "                        <td id=\"T_e939a676_405a_11ec_b70f_0242ac1c0002row14_col17\" class=\"data row14 col17\" >-0.046953</td>\n",
              "            </tr>\n",
              "            <tr>\n",
              "                        <th id=\"T_e939a676_405a_11ec_b70f_0242ac1c0002level0_row15\" class=\"row_heading level0 row15\" >Promo2</th>\n",
              "                        <td id=\"T_e939a676_405a_11ec_b70f_0242ac1c0002row15_col0\" class=\"data row15 col0\" >0.004776</td>\n",
              "                        <td id=\"T_e939a676_405a_11ec_b70f_0242ac1c0002row15_col1\" class=\"data row15 col1\" >0.004776</td>\n",
              "                        <td id=\"T_e939a676_405a_11ec_b70f_0242ac1c0002row15_col2\" class=\"data row15 col2\" >0.006430</td>\n",
              "                        <td id=\"T_e939a676_405a_11ec_b70f_0242ac1c0002row15_col3\" class=\"data row15 col3\" >-0.003264</td>\n",
              "                        <td id=\"T_e939a676_405a_11ec_b70f_0242ac1c0002row15_col4\" class=\"data row15 col4\" >-0.127628</td>\n",
              "                        <td id=\"T_e939a676_405a_11ec_b70f_0242ac1c0002row15_col5\" class=\"data row15 col5\" >-0.202503</td>\n",
              "                        <td id=\"T_e939a676_405a_11ec_b70f_0242ac1c0002row15_col6\" class=\"data row15 col6\" >nan</td>\n",
              "                        <td id=\"T_e939a676_405a_11ec_b70f_0242ac1c0002row15_col7\" class=\"data row15 col7\" >-0.000300</td>\n",
              "                        <td id=\"T_e939a676_405a_11ec_b70f_0242ac1c0002row15_col8\" class=\"data row15 col8\" >-0.010132</td>\n",
              "                        <td id=\"T_e939a676_405a_11ec_b70f_0242ac1c0002row15_col9\" class=\"data row15 col9\" >-0.008238</td>\n",
              "                        <td id=\"T_e939a676_405a_11ec_b70f_0242ac1c0002row15_col10\" class=\"data row15 col10\" >-0.005669</td>\n",
              "                        <td id=\"T_e939a676_405a_11ec_b70f_0242ac1c0002row15_col11\" class=\"data row15 col11\" >-0.025657</td>\n",
              "                        <td id=\"T_e939a676_405a_11ec_b70f_0242ac1c0002row15_col12\" class=\"data row15 col12\" >0.089032</td>\n",
              "                        <td id=\"T_e939a676_405a_11ec_b70f_0242ac1c0002row15_col13\" class=\"data row15 col13\" >0.009308</td>\n",
              "                        <td id=\"T_e939a676_405a_11ec_b70f_0242ac1c0002row15_col14\" class=\"data row15 col14\" >-0.141975</td>\n",
              "                        <td id=\"T_e939a676_405a_11ec_b70f_0242ac1c0002row15_col15\" class=\"data row15 col15\" >1.000000</td>\n",
              "                        <td id=\"T_e939a676_405a_11ec_b70f_0242ac1c0002row15_col16\" class=\"data row15 col16\" >0.013141</td>\n",
              "                        <td id=\"T_e939a676_405a_11ec_b70f_0242ac1c0002row15_col17\" class=\"data row15 col17\" >0.630604</td>\n",
              "            </tr>\n",
              "            <tr>\n",
              "                        <th id=\"T_e939a676_405a_11ec_b70f_0242ac1c0002level0_row16\" class=\"row_heading level0 row16\" >day_diff_comp</th>\n",
              "                        <td id=\"T_e939a676_405a_11ec_b70f_0242ac1c0002row16_col0\" class=\"data row16 col0\" >0.003200</td>\n",
              "                        <td id=\"T_e939a676_405a_11ec_b70f_0242ac1c0002row16_col1\" class=\"data row16 col1\" >0.003200</td>\n",
              "                        <td id=\"T_e939a676_405a_11ec_b70f_0242ac1c0002row16_col2\" class=\"data row16 col2\" >0.002001</td>\n",
              "                        <td id=\"T_e939a676_405a_11ec_b70f_0242ac1c0002row16_col3\" class=\"data row16 col3\" >-0.001967</td>\n",
              "                        <td id=\"T_e939a676_405a_11ec_b70f_0242ac1c0002row16_col4\" class=\"data row16 col4\" >-0.004366</td>\n",
              "                        <td id=\"T_e939a676_405a_11ec_b70f_0242ac1c0002row16_col5\" class=\"data row16 col5\" >-0.005188</td>\n",
              "                        <td id=\"T_e939a676_405a_11ec_b70f_0242ac1c0002row16_col6\" class=\"data row16 col6\" >nan</td>\n",
              "                        <td id=\"T_e939a676_405a_11ec_b70f_0242ac1c0002row16_col7\" class=\"data row16 col7\" >0.002284</td>\n",
              "                        <td id=\"T_e939a676_405a_11ec_b70f_0242ac1c0002row16_col8\" class=\"data row16 col8\" >-0.002327</td>\n",
              "                        <td id=\"T_e939a676_405a_11ec_b70f_0242ac1c0002row16_col9\" class=\"data row16 col9\" >-0.000125</td>\n",
              "                        <td id=\"T_e939a676_405a_11ec_b70f_0242ac1c0002row16_col10\" class=\"data row16 col10\" >0.086540</td>\n",
              "                        <td id=\"T_e939a676_405a_11ec_b70f_0242ac1c0002row16_col11\" class=\"data row16 col11\" >0.004832</td>\n",
              "                        <td id=\"T_e939a676_405a_11ec_b70f_0242ac1c0002row16_col12\" class=\"data row16 col12\" >-0.046379</td>\n",
              "                        <td id=\"T_e939a676_405a_11ec_b70f_0242ac1c0002row16_col13\" class=\"data row16 col13\" >-0.098058</td>\n",
              "                        <td id=\"T_e939a676_405a_11ec_b70f_0242ac1c0002row16_col14\" class=\"data row16 col14\" >-0.020094</td>\n",
              "                        <td id=\"T_e939a676_405a_11ec_b70f_0242ac1c0002row16_col15\" class=\"data row16 col15\" >0.013141</td>\n",
              "                        <td id=\"T_e939a676_405a_11ec_b70f_0242ac1c0002row16_col16\" class=\"data row16 col16\" >1.000000</td>\n",
              "                        <td id=\"T_e939a676_405a_11ec_b70f_0242ac1c0002row16_col17\" class=\"data row16 col17\" >0.013367</td>\n",
              "            </tr>\n",
              "            <tr>\n",
              "                        <th id=\"T_e939a676_405a_11ec_b70f_0242ac1c0002level0_row17\" class=\"row_heading level0 row17\" >day_diff_promo</th>\n",
              "                        <td id=\"T_e939a676_405a_11ec_b70f_0242ac1c0002row17_col0\" class=\"data row17 col0\" >-0.018210</td>\n",
              "                        <td id=\"T_e939a676_405a_11ec_b70f_0242ac1c0002row17_col1\" class=\"data row17 col1\" >-0.018210</td>\n",
              "                        <td id=\"T_e939a676_405a_11ec_b70f_0242ac1c0002row17_col2\" class=\"data row17 col2\" >-0.015774</td>\n",
              "                        <td id=\"T_e939a676_405a_11ec_b70f_0242ac1c0002row17_col3\" class=\"data row17 col3\" >-0.004797</td>\n",
              "                        <td id=\"T_e939a676_405a_11ec_b70f_0242ac1c0002row17_col4\" class=\"data row17 col4\" >-0.057057</td>\n",
              "                        <td id=\"T_e939a676_405a_11ec_b70f_0242ac1c0002row17_col5\" class=\"data row17 col5\" >-0.145279</td>\n",
              "                        <td id=\"T_e939a676_405a_11ec_b70f_0242ac1c0002row17_col6\" class=\"data row17 col6\" >nan</td>\n",
              "                        <td id=\"T_e939a676_405a_11ec_b70f_0242ac1c0002row17_col7\" class=\"data row17 col7\" >0.005178</td>\n",
              "                        <td id=\"T_e939a676_405a_11ec_b70f_0242ac1c0002row17_col8\" class=\"data row17 col8\" >-0.009217</td>\n",
              "                        <td id=\"T_e939a676_405a_11ec_b70f_0242ac1c0002row17_col9\" class=\"data row17 col9\" >-0.003078</td>\n",
              "                        <td id=\"T_e939a676_405a_11ec_b70f_0242ac1c0002row17_col10\" class=\"data row17 col10\" >0.216679</td>\n",
              "                        <td id=\"T_e939a676_405a_11ec_b70f_0242ac1c0002row17_col11\" class=\"data row17 col11\" >0.006681</td>\n",
              "                        <td id=\"T_e939a676_405a_11ec_b70f_0242ac1c0002row17_col12\" class=\"data row17 col12\" >0.092756</td>\n",
              "                        <td id=\"T_e939a676_405a_11ec_b70f_0242ac1c0002row17_col13\" class=\"data row17 col13\" >-0.014805</td>\n",
              "                        <td id=\"T_e939a676_405a_11ec_b70f_0242ac1c0002row17_col14\" class=\"data row17 col14\" >-0.046953</td>\n",
              "                        <td id=\"T_e939a676_405a_11ec_b70f_0242ac1c0002row17_col15\" class=\"data row17 col15\" >0.630604</td>\n",
              "                        <td id=\"T_e939a676_405a_11ec_b70f_0242ac1c0002row17_col16\" class=\"data row17 col16\" >0.013367</td>\n",
              "                        <td id=\"T_e939a676_405a_11ec_b70f_0242ac1c0002row17_col17\" class=\"data row17 col17\" >1.000000</td>\n",
              "            </tr>\n",
              "    </tbody></table>"
            ],
            "text/plain": [
              "<pandas.io.formats.style.Styler at 0x7fc4e8420410>"
            ]
          },
          "metadata": {},
          "execution_count": 32
        }
      ]
    },
    {
      "cell_type": "markdown",
      "metadata": {
        "id": "aun87jrfqXy9"
      },
      "source": [
        "#Selecting the columns for Training\n",
        "'Store', 'DayOfWeek',  'Sales', 'Customers', 'Open', 'Promo',\n",
        "       'StateHoliday', 'SchoolHoliday', 'StoreType', 'Assortment',\n",
        "       'CompetitionDistance', 'Promo2',\n",
        "       'Promo2SinceYear', 'PromoInterval',\n",
        "       'Promo2Open', 'IsPromo2Month'\n",
        "\n"
      ]
    },
    {
      "cell_type": "code",
      "metadata": {
        "id": "8HePRxxVLe4C"
      },
      "source": [
        "dependent_variable = 'Sales'"
      ],
      "execution_count": null,
      "outputs": []
    },
    {
      "cell_type": "code",
      "metadata": {
        "id": "LX9iy9H3Le1D"
      },
      "source": [
        "independent_variables = ['Customers', 'DayOfWeek', 'Open',\n",
        "       'Promo', 'SchoolHoliday', 'Year',\n",
        "       'Month', 'Assortment', 'CompetitionDistance','Promo2',\n",
        "       'day_diff_comp','day_diff_promo','StateHoliday',\n",
        "      'StoreType']"
      ],
      "execution_count": null,
      "outputs": []
    },
    {
      "cell_type": "markdown",
      "metadata": {
        "id": "xCQ3rzC3dCJl"
      },
      "source": [
        "##Adding dependent variables and independent variables "
      ]
    },
    {
      "cell_type": "code",
      "metadata": {
        "id": "bPNYz2onLVxM"
      },
      "source": [
        "X = store_data_merged[independent_variables]\n",
        "y = store_data_merged[dependent_variable]"
      ],
      "execution_count": null,
      "outputs": []
    },
    {
      "cell_type": "markdown",
      "metadata": {
        "id": "mXnaLq0ddKx1"
      },
      "source": [
        "##Splitting the data into test and train data"
      ]
    },
    {
      "cell_type": "code",
      "metadata": {
        "id": "FmfbkK6DLVua"
      },
      "source": [
        "X_train, X_test, y_train, y_test = train_test_split(X, y, test_size=0.2, random_state=324)"
      ],
      "execution_count": null,
      "outputs": []
    },
    {
      "cell_type": "code",
      "metadata": {
        "id": "AyAS7sVXxXTC"
      },
      "source": [
        "Train_y = np.nan_to_num(y_train)\n",
        "Train_X = np.nan_to_num(X_train)"
      ],
      "execution_count": null,
      "outputs": []
    },
    {
      "cell_type": "code",
      "metadata": {
        "id": "TAeDwlO7UJ4n"
      },
      "source": [
        "reg= ExtraTreesRegressor()"
      ],
      "execution_count": null,
      "outputs": []
    },
    {
      "cell_type": "markdown",
      "metadata": {
        "id": "_Cx67YYwU61G"
      },
      "source": [
        "#Decision tree modelling using hyper tuning"
      ]
    },
    {
      "cell_type": "code",
      "metadata": {
        "id": "No6J8CJ0LVnV"
      },
      "source": [
        "graph = Source(tree.export_graphviz(humidity_classifier, out_file=None\n",
        "   , feature_names=X_train.columns, class_names=['0', '1'] \n",
        "   , filled = True))\n",
        "display(SVG(graph.pipe(format='svg')))"
      ],
      "execution_count": null,
      "outputs": []
    },
    {
      "cell_type": "code",
      "metadata": {
        "id": "BHWHMXuW5hFT"
      },
      "source": [
        "reg_decision_model=DecisionTreeRegressor()"
      ],
      "execution_count": null,
      "outputs": []
    },
    {
      "cell_type": "code",
      "metadata": {
        "colab": {
          "base_uri": "https://localhost:8080/"
        },
        "id": "D2Lt6IEU5os_",
        "outputId": "f6591be9-629a-40af-d402-426fd65495af"
      },
      "source": [
        "reg_decision_model.fit(X_train,y_train)"
      ],
      "execution_count": null,
      "outputs": [
        {
          "output_type": "execute_result",
          "data": {
            "text/plain": [
              "DecisionTreeRegressor(ccp_alpha=0.0, criterion='mse', max_depth=None,\n",
              "                      max_features=None, max_leaf_nodes=None,\n",
              "                      min_impurity_decrease=0.0, min_impurity_split=None,\n",
              "                      min_samples_leaf=1, min_samples_split=2,\n",
              "                      min_weight_fraction_leaf=0.0, presort='deprecated',\n",
              "                      random_state=None, splitter='best')"
            ]
          },
          "metadata": {},
          "execution_count": 41
        }
      ]
    },
    {
      "cell_type": "code",
      "metadata": {
        "colab": {
          "base_uri": "https://localhost:8080/"
        },
        "id": "rjTIsHJWMzmw",
        "outputId": "b3673be9-5374-4527-f4be-4f7ea12e79dd"
      },
      "source": [
        "reg_decision_model.feature_importances_"
      ],
      "execution_count": null,
      "outputs": [
        {
          "output_type": "execute_result",
          "data": {
            "text/plain": [
              "array([7.36659007e-01, 1.12186869e-02, 0.00000000e+00, 3.57577461e-02,\n",
              "       1.11863475e-03, 2.24833414e-03, 7.39194535e-03, 1.25326863e-02,\n",
              "       8.85623090e-02, 4.41685995e-03, 2.43416333e-02, 1.66896365e-02,\n",
              "       2.97988655e-04, 5.87645318e-02])"
            ]
          },
          "metadata": {},
          "execution_count": 42
        }
      ]
    },
    {
      "cell_type": "code",
      "metadata": {
        "colab": {
          "base_uri": "https://localhost:8080/",
          "height": 265
        },
        "id": "slB3gVjPM_n_",
        "outputId": "11a258e8-b522-4f5e-d251-062029b29c47"
      },
      "source": [
        "feat_importances = pd.Series(reg_decision_model.feature_importances_, index=X_train.columns)\n",
        "feat_importances.nlargest(20).plot(kind='barh')\n",
        "plt.show()"
      ],
      "execution_count": null,
      "outputs": [
        {
          "output_type": "display_data",
          "data": {
            "image/png": "[encoded data removed]",
            "text/plain": [
              "<Figure size 432x288 with 1 Axes>"
            ]
          },
          "metadata": {
            "needs_background": "light"
          }
        }
      ]
    },
    {
      "cell_type": "markdown",
      "metadata": {
        "id": "yTjoC169O5xQ"
      },
      "source": [
        "## from the above bar graph it is evident that customers is the field that is globally relevant"
      ]
    },
    {
      "cell_type": "code",
      "metadata": {
        "colab": {
          "base_uri": "https://localhost:8080/"
        },
        "id": "YHxGy2GM5670",
        "outputId": "ce767d91-bea6-4afd-83bf-8cc60a469589"
      },
      "source": [
        "reg_decision_model.score(X_train,y_train)"
      ],
      "execution_count": null,
      "outputs": [
        {
          "output_type": "execute_result",
          "data": {
            "text/plain": [
              "0.9999962788188101"
            ]
          },
          "metadata": {},
          "execution_count": 44
        }
      ]
    },
    {
      "cell_type": "code",
      "metadata": {
        "colab": {
          "base_uri": "https://localhost:8080/"
        },
        "id": "8v43T25P592t",
        "outputId": "90076836-d333-4f33-95db-ad1df79bce98"
      },
      "source": [
        "reg_decision_model.score(X_test,y_test)"
      ],
      "execution_count": null,
      "outputs": [
        {
          "output_type": "execute_result",
          "data": {
            "text/plain": [
              "0.94306527207805"
            ]
          },
          "metadata": {},
          "execution_count": 45
        }
      ]
    },
    {
      "cell_type": "markdown",
      "metadata": {
        "id": "_pm9YAPiWtoA"
      },
      "source": [
        "# As the score is not satisfactory , it is time for hypertuning "
      ]
    },
    {
      "cell_type": "code",
      "metadata": {
        "id": "8vngx-NAW0yd"
      },
      "source": [
        "prediction=reg_decision_model.predict(X_test)"
      ],
      "execution_count": null,
      "outputs": []
    },
    {
      "cell_type": "code",
      "metadata": {
        "colab": {
          "base_uri": "https://localhost:8080/",
          "height": 351
        },
        "id": "yQqxwwF8W4dr",
        "outputId": "f880ece0-f4fb-41e1-e9a6-117db6cfccc4"
      },
      "source": [
        "# checking difference between labled y and predicted y\n",
        "sns.distplot(y_test-prediction)"
      ],
      "execution_count": null,
      "outputs": [
        {
          "output_type": "stream",
          "name": "stderr",
          "text": [
            "/usr/local/lib/python3.7/dist-packages/seaborn/distributions.py:2619: FutureWarning: `distplot` is a deprecated function and will be removed in a future version. Please adapt your code to use either `displot` (a figure-level function with similar flexibility) or `histplot` (an axes-level function for histograms).\n",
            "  warnings.warn(msg, FutureWarning)\n"
          ]
        },
        {
          "output_type": "execute_result",
          "data": {
            "text/plain": [
              "<matplotlib.axes._subplots.AxesSubplot at 0x7fc4eae40a90>"
            ]
          },
          "metadata": {},
          "execution_count": 47
        },
        {
          "output_type": "display_data",
          "data": {
            "image/png": "[encoded data removed]",
            "text/plain": [
              "<Figure size 432x288 with 1 Axes>"
            ]
          },
          "metadata": {
            "needs_background": "light"
          }
        }
      ]
    },
    {
      "cell_type": "code",
      "metadata": {
        "colab": {
          "base_uri": "https://localhost:8080/",
          "height": 285
        },
        "id": "5SOPmN_lW7Gs",
        "outputId": "83a6fbae-fe80-4760-99bb-dd25a5d53bdb"
      },
      "source": [
        "#checking predicted y and labeled y using a scatter plot.\n",
        "\n",
        "plt.scatter(y_test,prediction)"
      ],
      "execution_count": null,
      "outputs": [
        {
          "output_type": "execute_result",
          "data": {
            "text/plain": [
              "<matplotlib.collections.PathCollection at 0x7fc4e875a0d0>"
            ]
          },
          "metadata": {},
          "execution_count": 48
        },
        {
          "output_type": "display_data",
          "data": {
            "image/png": "[encoded data removed]",
            "text/plain": [
              "<Figure size 432x288 with 1 Axes>"
            ]
          },
          "metadata": {
            "needs_background": "light"
          }
        }
      ]
    },
    {
      "cell_type": "code",
      "metadata": {
        "id": "xPFjltToXJwK"
      },
      "source": [
        "# Hyper parameters range intialization for tuning \n",
        "# \"max_leaf_nodes\":[60,70,80,90]\n",
        "parameters={\"splitter\":[\"best\",\"random\"],\n",
        "            \"max_depth\" : [4,8,10,12],\n",
        "           \"min_samples_leaf\":[30,40,50],\n",
        "           \"min_weight_fraction_leaf\":[0,0.2,0.4],\n",
        "            \"min_samples_split\":[50,100,150],\n",
        "           \"max_features\":[\"auto\",\"log2\",\"sqrt\",None]\n",
        "           }"
      ],
      "execution_count": null,
      "outputs": []
    },
    {
      "cell_type": "code",
      "metadata": {
        "id": "8rmRSs6zXOMC"
      },
      "source": [
        "tuning_model=GridSearchCV(reg_decision_model,param_grid=parameters,scoring='neg_mean_squared_error',cv=5,verbose=1)"
      ],
      "execution_count": null,
      "outputs": []
    },
    {
      "cell_type": "code",
      "metadata": {
        "id": "z-ZyUroLXSQG"
      },
      "source": [
        "# function for calculating how much time take for hyperparameter tuning\n",
        "\n",
        "def timer(start_time=None):\n",
        "    if not start_time:\n",
        "        start_time=datetime.now()\n",
        "        return start_time\n",
        "    elif start_time:\n",
        "        thour,temp_sec=divmod((datetime.now()-start_time).total_seconds(),3600)\n",
        "        tmin,tsec=divmod(temp_sec,60)"
      ],
      "execution_count": null,
      "outputs": []
    },
    {
      "cell_type": "code",
      "metadata": {
        "colab": {
          "base_uri": "https://localhost:8080/"
        },
        "id": "HbSZHp3HXZeR",
        "outputId": "84a0a586-a3ae-42d3-eee8-ebea713d1d8d"
      },
      "source": [
        "start_time=timer(None)\n",
        "tuning_model.fit(X,y)\n",
        "timer(start_time)"
      ],
      "execution_count": null,
      "outputs": [
        {
          "output_type": "stream",
          "name": "stdout",
          "text": [
            "Fitting 5 folds for each of 864 candidates, totalling 4320 fits\n"
          ]
        },
        {
          "output_type": "stream",
          "name": "stderr",
          "text": [
            "[Parallel(n_jobs=1)]: Using backend SequentialBackend with 1 concurrent workers.\n",
            "[Parallel(n_jobs=1)]: Done 4320 out of 4320 | elapsed: 42.2min finished\n"
          ]
        }
      ]
    },
    {
      "cell_type": "code",
      "metadata": {
        "id": "ODn34HXx9xs9",
        "colab": {
          "base_uri": "https://localhost:8080/"
        },
        "outputId": "c7bbf600-910d-4051-a4b4-91f318fe2676"
      },
      "source": [
        "## getting the best params from the above step for fine tuning \n",
        "tuning_model.best_params_"
      ],
      "execution_count": null,
      "outputs": [
        {
          "output_type": "execute_result",
          "data": {
            "text/plain": [
              "{'max_depth': 12,\n",
              " 'max_features': 'auto',\n",
              " 'min_samples_leaf': 30,\n",
              " 'min_samples_split': 150,\n",
              " 'min_weight_fraction_leaf': 0,\n",
              " 'splitter': 'random'}"
            ]
          },
          "metadata": {},
          "execution_count": 75
        }
      ]
    },
    {
      "cell_type": "code",
      "metadata": {
        "colab": {
          "base_uri": "https://localhost:8080/"
        },
        "id": "47uxcq7koxy1",
        "outputId": "c17ec340-06ba-4dc3-a5e9-e299acfc5406"
      },
      "source": [
        "# best model score\n",
        "tuning_model.best_score_"
      ],
      "execution_count": null,
      "outputs": [
        {
          "output_type": "execute_result",
          "data": {
            "text/plain": [
              "-1762801.4839633629"
            ]
          },
          "metadata": {},
          "execution_count": 76
        }
      ]
    },
    {
      "cell_type": "markdown",
      "metadata": {
        "id": "Pt4NamXP9fvd"
      },
      "source": [
        "#Training Decision Tree With Best Hyperparameters as given by the step"
      ]
    },
    {
      "cell_type": "code",
      "metadata": {
        "id": "n4bfZXIco8cI"
      },
      "source": [
        "tuned_hyper_model= DecisionTreeRegressor(max_depth=12,max_features='auto',min_samples_leaf=30,min_weight_fraction_leaf=0,splitter='random')"
      ],
      "execution_count": null,
      "outputs": []
    },
    {
      "cell_type": "code",
      "metadata": {
        "colab": {
          "base_uri": "https://localhost:8080/"
        },
        "id": "fkti2SVvo_CP",
        "outputId": "60b9df98-3811-4a2e-f7c3-7ae1964da675"
      },
      "source": [
        "# fitting model\n",
        "\n",
        "\n",
        "tuned_hyper_model.fit(X_train,y_train)"
      ],
      "execution_count": null,
      "outputs": [
        {
          "output_type": "execute_result",
          "data": {
            "text/plain": [
              "DecisionTreeRegressor(ccp_alpha=0.0, criterion='mse', max_depth=12,\n",
              "                      max_features='auto', max_leaf_nodes=None,\n",
              "                      min_impurity_decrease=0.0, min_impurity_split=None,\n",
              "                      min_samples_leaf=30, min_samples_split=2,\n",
              "                      min_weight_fraction_leaf=0, presort='deprecated',\n",
              "                      random_state=None, splitter='random')"
            ]
          },
          "metadata": {},
          "execution_count": 80
        }
      ]
    },
    {
      "cell_type": "code",
      "metadata": {
        "id": "zAROe-f7pDIl"
      },
      "source": [
        "# prediction \n",
        "\n",
        "tuned_pred=tuned_hyper_model.predict(X_test)"
      ],
      "execution_count": null,
      "outputs": []
    },
    {
      "cell_type": "code",
      "metadata": {
        "id": "w1poBeKLpIzR"
      },
      "source": [
        ""
      ],
      "execution_count": null,
      "outputs": []
    },
    {
      "cell_type": "code",
      "metadata": {
        "colab": {
          "base_uri": "https://localhost:8080/"
        },
        "id": "X3Helme68WtR",
        "outputId": "290f8694-8757-4876-b3c7-76efed9b2309"
      },
      "source": [
        "print('MAE:', metrics.mean_absolute_error(y_test,tuned_pred))\n",
        "print('MSE:', metrics.mean_squared_error(y_test, tuned_pred))\n",
        "print('RMSE:', np.sqrt(metrics.mean_squared_error(y_test, tuned_pred)))"
      ],
      "execution_count": null,
      "outputs": [
        {
          "output_type": "stream",
          "name": "stdout",
          "text": [
            "MAE: 880.5474654346376\n",
            "MSE: 1489662.0044065241\n",
            "RMSE: 1220.5171053313936\n"
          ]
        }
      ]
    },
    {
      "cell_type": "code",
      "metadata": {
        "colab": {
          "base_uri": "https://localhost:8080/"
        },
        "id": "Y_oVqiGK8kkZ",
        "outputId": "9956f167-e369-417a-e11c-4a85bd1140cb"
      },
      "source": [
        "# without hyperparameter tuning \n",
        "print('MAE:', metrics.mean_absolute_error(y_test,prediction))\n",
        "print('MSE:', metrics.mean_squared_error(y_test, prediction))\n",
        "print('RMSE:', np.sqrt(metrics.mean_squared_error(y_test, prediction)))"
      ],
      "execution_count": null,
      "outputs": [
        {
          "output_type": "stream",
          "name": "stdout",
          "text": [
            "MAE: 477.2866842394811\n",
            "MSE: 548199.9989745893\n",
            "RMSE: 740.405293724045\n"
          ]
        }
      ]
    },
    {
      "cell_type": "code",
      "metadata": {
        "id": "KPfn2lvX8nLV"
      },
      "source": [
        "import shap\n",
        "shap.initjs()"
      ],
      "execution_count": null,
      "outputs": []
    },
    {
      "cell_type": "code",
      "metadata": {
        "id": "sWfMnReTPVbI"
      },
      "source": [
        "X_shap=X_train\n",
        "explainer = shap.TreeExplainer(lgb_model)\n",
        "shap_values = explainer.shap_values(X_shap)"
      ],
      "execution_count": null,
      "outputs": []
    },
    {
      "cell_type": "code",
      "metadata": {
        "id": "xYhegmu5PVZ5"
      },
      "source": [
        "shap.summary_plot(shap_values[1], X_shap, plot_type=\"dot\")"
      ],
      "execution_count": null,
      "outputs": []
    },
    {
      "cell_type": "code",
      "metadata": {
        "id": "JdBKbfh9PVWl"
      },
      "source": [
        ""
      ],
      "execution_count": null,
      "outputs": []
    },
    {
      "cell_type": "code",
      "metadata": {
        "id": "6P5xeI9zPVUK"
      },
      "source": [
        ""
      ],
      "execution_count": null,
      "outputs": []
    },
    {
      "cell_type": "code",
      "metadata": {
        "id": "PqPYR1VFPVQn"
      },
      "source": [
        ""
      ],
      "execution_count": null,
      "outputs": []
    },
    {
      "cell_type": "code",
      "metadata": {
        "id": "UaFgSStgPVNw"
      },
      "source": [
        ""
      ],
      "execution_count": null,
      "outputs": []
    },
    {
      "cell_type": "code",
      "metadata": {
        "id": "5Wvx959zPVLI"
      },
      "source": [
        ""
      ],
      "execution_count": null,
      "outputs": []
    },
    {
      "cell_type": "code",
      "metadata": {
        "id": "lM5PqdoTPVH-"
      },
      "source": [
        ""
      ],
      "execution_count": null,
      "outputs": []
    },
    {
      "cell_type": "code",
      "metadata": {
        "id": "DD2lx5dRPVEw"
      },
      "source": [
        ""
      ],
      "execution_count": null,
      "outputs": []
    }
  ]
}